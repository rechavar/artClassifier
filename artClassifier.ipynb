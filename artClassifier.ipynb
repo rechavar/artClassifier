{
 "cells": [
  {
   "cell_type": "markdown",
   "metadata": {},
   "source": [
    "## artClassifier best group"
   ]
  },
  {
   "cell_type": "code",
   "execution_count": 1,
   "metadata": {},
   "outputs": [],
   "source": [
    "import math\n",
    "import numpy as np\n",
    "import pandas as pd\n",
    "from data import *\n",
    "from model import getLinealModel as linealModel, getLetnetModel as letNetModel\n",
    "from model import getAlexnetModel as AlexNetModel, getVGGModel as VGGModel\n",
    "import tensorflow as tf\n",
    "\n",
    "%load_ext autoreload\n",
    "%autoreload 2\n",
    "tf.enable_eager_execution()"
   ]
  },
  {
   "cell_type": "code",
   "execution_count": 25,
   "metadata": {},
   "outputs": [
    {
     "name": "stdout",
     "output_type": "stream",
     "text": [
      "IMG_20190422_132623.jpg.json\n",
      "IMG_20190422_132635.jpg.json\n"
     ]
    }
   ],
   "source": [
    "prepareDataset(r'C:\\Users\\USER\\Desktop\\Universidad\\Grupo de estudio DeepLearning\\ART_DATASET\\Dataset')"
   ]
  },
  {
   "cell_type": "code",
   "execution_count": 2,
   "metadata": {},
   "outputs": [
    {
     "data": {
      "text/html": [
       "<div>\n",
       "<style scoped>\n",
       "    .dataframe tbody tr th:only-of-type {\n",
       "        vertical-align: middle;\n",
       "    }\n",
       "\n",
       "    .dataframe tbody tr th {\n",
       "        vertical-align: top;\n",
       "    }\n",
       "\n",
       "    .dataframe thead th {\n",
       "        text-align: right;\n",
       "    }\n",
       "</style>\n",
       "<table border=\"1\" class=\"dataframe\">\n",
       "  <thead>\n",
       "    <tr style=\"text-align: right;\">\n",
       "      <th></th>\n",
       "      <th>imageLabel</th>\n",
       "      <th>imageName</th>\n",
       "      <th>split</th>\n",
       "    </tr>\n",
       "  </thead>\n",
       "  <tbody>\n",
       "    <tr>\n",
       "      <th>0</th>\n",
       "      <td>0</td>\n",
       "      <td>1057647807416146105.PNG</td>\n",
       "      <td>train</td>\n",
       "    </tr>\n",
       "    <tr>\n",
       "      <th>1</th>\n",
       "      <td>1</td>\n",
       "      <td>7777032992991800190.PNG</td>\n",
       "      <td>test</td>\n",
       "    </tr>\n",
       "    <tr>\n",
       "      <th>2</th>\n",
       "      <td>0</td>\n",
       "      <td>13168081503562239814.PNG</td>\n",
       "      <td>train</td>\n",
       "    </tr>\n",
       "    <tr>\n",
       "      <th>3</th>\n",
       "      <td>0</td>\n",
       "      <td>2701515351254337681.PNG</td>\n",
       "      <td>train</td>\n",
       "    </tr>\n",
       "    <tr>\n",
       "      <th>4</th>\n",
       "      <td>2</td>\n",
       "      <td>15191594682468756303.PNG</td>\n",
       "      <td>train</td>\n",
       "    </tr>\n",
       "  </tbody>\n",
       "</table>\n",
       "</div>"
      ],
      "text/plain": [
       "   imageLabel                 imageName  split\n",
       "0           0   1057647807416146105.PNG  train\n",
       "1           1   7777032992991800190.PNG   test\n",
       "2           0  13168081503562239814.PNG  train\n",
       "3           0   2701515351254337681.PNG  train\n",
       "4           2  15191594682468756303.PNG  train"
      ]
     },
     "execution_count": 2,
     "metadata": {},
     "output_type": "execute_result"
    }
   ],
   "source": [
    "metadata = pd.read_csv('metadata.csv')\n",
    "metadata.head(5)"
   ]
  },
  {
   "cell_type": "code",
   "execution_count": 3,
   "metadata": {},
   "outputs": [
    {
     "data": {
      "text/html": [
       "<div>\n",
       "<style scoped>\n",
       "    .dataframe tbody tr th:only-of-type {\n",
       "        vertical-align: middle;\n",
       "    }\n",
       "\n",
       "    .dataframe tbody tr th {\n",
       "        vertical-align: top;\n",
       "    }\n",
       "\n",
       "    .dataframe thead th {\n",
       "        text-align: right;\n",
       "    }\n",
       "</style>\n",
       "<table border=\"1\" class=\"dataframe\">\n",
       "  <thead>\n",
       "    <tr style=\"text-align: right;\">\n",
       "      <th></th>\n",
       "      <th>imageLabel</th>\n",
       "      <th>imageName</th>\n",
       "      <th>split</th>\n",
       "    </tr>\n",
       "  </thead>\n",
       "  <tbody>\n",
       "    <tr>\n",
       "      <th>0</th>\n",
       "      <td>0</td>\n",
       "      <td>1057647807416146105.PNG</td>\n",
       "      <td>train</td>\n",
       "    </tr>\n",
       "    <tr>\n",
       "      <th>1</th>\n",
       "      <td>1</td>\n",
       "      <td>9077592516827598342.PNG</td>\n",
       "      <td>train</td>\n",
       "    </tr>\n",
       "    <tr>\n",
       "      <th>2</th>\n",
       "      <td>2</td>\n",
       "      <td>15191594682468756303.PNG</td>\n",
       "      <td>train</td>\n",
       "    </tr>\n",
       "    <tr>\n",
       "      <th>3</th>\n",
       "      <td>3</td>\n",
       "      <td>5515792049071374849.PNG</td>\n",
       "      <td>train</td>\n",
       "    </tr>\n",
       "    <tr>\n",
       "      <th>4</th>\n",
       "      <td>4</td>\n",
       "      <td>1847357681393076345.PNG</td>\n",
       "      <td>train</td>\n",
       "    </tr>\n",
       "  </tbody>\n",
       "</table>\n",
       "</div>"
      ],
      "text/plain": [
       "   imageLabel                 imageName  split\n",
       "0           0   1057647807416146105.PNG  train\n",
       "1           1   9077592516827598342.PNG  train\n",
       "2           2  15191594682468756303.PNG  train\n",
       "3           3   5515792049071374849.PNG  train\n",
       "4           4   1847357681393076345.PNG  train"
      ]
     },
     "execution_count": 3,
     "metadata": {},
     "output_type": "execute_result"
    }
   ],
   "source": [
    "metadata1 = pd.read_csv('metadata1.csv')\n",
    "metadata1.head(5)"
   ]
  },
  {
   "cell_type": "code",
   "execution_count": 4,
   "metadata": {},
   "outputs": [],
   "source": [
    "trainSources = buildSources(metadata,r'C:\\Users\\USER\\Desktop\\Universidad\\Grupo de estudio DeepLearning\\artClassifier\\image_files')\n",
    "testSources = buildSources(metadata,r'\\C:\\Users\\USER\\Desktop\\Universidad\\Grupo de estudio DeepLearning\\artClassifier\\image_files', mode = 'test')\n",
    "valSources = buildSources(metadata,r'C:\\Users\\USER\\Desktop\\Universidad\\Grupo de estudio DeepLearning\\artClassifier\\image_files', mode = 'val')"
   ]
  },
  {
   "cell_type": "code",
   "execution_count": 5,
   "metadata": {},
   "outputs": [
    {
     "data": {
      "text/plain": [
       "[('C:\\\\Users\\\\USER\\\\Desktop\\\\Universidad\\\\Grupo de estudio DeepLearning\\\\artClassifier\\\\image_files\\\\1057647807416146105.PNG',\n",
       "  0),\n",
       " ('C:\\\\Users\\\\USER\\\\Desktop\\\\Universidad\\\\Grupo de estudio DeepLearning\\\\artClassifier\\\\image_files\\\\13168081503562239814.PNG',\n",
       "  0),\n",
       " ('C:\\\\Users\\\\USER\\\\Desktop\\\\Universidad\\\\Grupo de estudio DeepLearning\\\\artClassifier\\\\image_files\\\\2701515351254337681.PNG',\n",
       "  0),\n",
       " ('C:\\\\Users\\\\USER\\\\Desktop\\\\Universidad\\\\Grupo de estudio DeepLearning\\\\artClassifier\\\\image_files\\\\15191594682468756303.PNG',\n",
       "  2),\n",
       " ('C:\\\\Users\\\\USER\\\\Desktop\\\\Universidad\\\\Grupo de estudio DeepLearning\\\\artClassifier\\\\image_files\\\\9077592516827598342.PNG',\n",
       "  1)]"
      ]
     },
     "execution_count": 5,
     "metadata": {},
     "output_type": "execute_result"
    }
   ],
   "source": [
    "trainSources[:5]"
   ]
  },
  {
   "cell_type": "code",
   "execution_count": 6,
   "metadata": {},
   "outputs": [
    {
     "data": {
      "text/html": [
       "<div>\n",
       "<style scoped>\n",
       "    .dataframe tbody tr th:only-of-type {\n",
       "        vertical-align: middle;\n",
       "    }\n",
       "\n",
       "    .dataframe tbody tr th {\n",
       "        vertical-align: top;\n",
       "    }\n",
       "\n",
       "    .dataframe thead th {\n",
       "        text-align: right;\n",
       "    }\n",
       "</style>\n",
       "<table border=\"1\" class=\"dataframe\">\n",
       "  <thead>\n",
       "    <tr style=\"text-align: right;\">\n",
       "      <th></th>\n",
       "      <th>imageLabel</th>\n",
       "      <th>imageName</th>\n",
       "      <th>split</th>\n",
       "    </tr>\n",
       "  </thead>\n",
       "  <tbody>\n",
       "    <tr>\n",
       "      <th>4</th>\n",
       "      <td>2</td>\n",
       "      <td>15191594682468756303.PNG</td>\n",
       "      <td>train</td>\n",
       "    </tr>\n",
       "  </tbody>\n",
       "</table>\n",
       "</div>"
      ],
      "text/plain": [
       "   imageLabel                 imageName  split\n",
       "4           2  15191594682468756303.PNG  train"
      ]
     },
     "execution_count": 6,
     "metadata": {},
     "output_type": "execute_result"
    }
   ],
   "source": [
    "metadata[metadata['imageName']== '15191594682468756303.PNG']"
   ]
  },
  {
   "cell_type": "code",
   "execution_count": 7,
   "metadata": {},
   "outputs": [],
   "source": [
    "dataset = makeDataset(trainSources, training=True,\n",
    "    batch_size=3, num_epochs=1,\n",
    "    num_parallel_calls=3)"
   ]
  },
  {
   "cell_type": "code",
   "execution_count": 8,
   "metadata": {},
   "outputs": [
    {
     "name": "stdout",
     "output_type": "stream",
     "text": [
      "WARNING:tensorflow:From C:\\Users\\USER\\Anaconda3\\envs\\pyPlate\\lib\\site-packages\\tensorflow\\python\\data\\ops\\iterator_ops.py:532: colocate_with (from tensorflow.python.framework.ops) is deprecated and will be removed in a future version.\n",
      "Instructions for updating:\n",
      "Colocations handled automatically by placer.\n"
     ]
    }
   ],
   "source": [
    "dataset = iter(dataset)"
   ]
  },
  {
   "cell_type": "code",
   "execution_count": 9,
   "metadata": {},
   "outputs": [
    {
     "data": {
      "image/png": "[encoded data removed]",
      "text/plain": [
       "<Figure size 1080x360 with 3 Axes>"
      ]
     },
     "metadata": {
      "needs_background": "light"
     },
     "output_type": "display_data"
    }
   ],
   "source": [
    "imshowThree(next(dataset))"
   ]
  },
  {
   "cell_type": "markdown",
   "metadata": {},
   "source": [
    "## Modelo lineal"
   ]
  },
  {
   "cell_type": "code",
   "execution_count": 10,
   "metadata": {},
   "outputs": [],
   "source": [
    "BACH_SIZE = 10\n",
    "NUM_CLASSES = 5\n",
    "VALIDATION_STEP = 1\n",
    "LEARNING_RATE = 0.0001\n",
    "EPOCHS = 80\n",
    "EPOCHS_ONE = 50"
   ]
  },
  {
   "cell_type": "code",
   "execution_count": 13,
   "metadata": {},
   "outputs": [],
   "source": [
    "modelOne = linealModel(NUM_CLASSES)\n",
    "modelOne.compile(loss='sparse_categorical_crossentropy',\n",
    "            optimizer= tf.keras.optimizers.Adam(LEARNING_RATE),\n",
    "            metrics=['accuracy'])"
   ]
  },
  {
   "cell_type": "code",
   "execution_count": 16,
   "metadata": {},
   "outputs": [
    {
     "name": "stdout",
     "output_type": "stream",
     "text": [
      "_________________________________________________________________\n",
      "Layer (type)                 Output Shape              Param #   \n",
      "=================================================================\n",
      "flatten (Flatten)            (None, 3072)              0         \n",
      "_________________________________________________________________\n",
      "dense (Dense)                (None, 5)                 15365     \n",
      "=================================================================\n",
      "Total params: 15,365\n",
      "Trainable params: 15,365\n",
      "Non-trainable params: 0\n",
      "_________________________________________________________________\n"
     ]
    }
   ],
   "source": [
    "modelOne.summary()"
   ]
  },
  {
   "cell_type": "code",
   "execution_count": 17,
   "metadata": {},
   "outputs": [],
   "source": [
    "trainOneSource = buildSources(metadata1,r'C:\\Users\\USER\\Desktop\\Universidad\\Grupo de estudio DeepLearning\\artClassifier\\image_files')"
   ]
  },
  {
   "cell_type": "code",
   "execution_count": 18,
   "metadata": {},
   "outputs": [],
   "source": [
    "trainOneDataset = makeDataset(trainOneSource, training=True,\n",
    "    batch_size=BACH_SIZE, num_epochs=EPOCHS_ONE,\n",
    "    num_parallel_calls=2)\n",
    "\n",
    "trainDataset = makeDataset(trainSources, training=True,\n",
    "    batch_size=BACH_SIZE, num_epochs=None,\n",
    "    num_parallel_calls=2)\n",
    "\n",
    "valDataset = makeDataset(valSources, training=True,\n",
    "    batch_size=BACH_SIZE, num_epochs=None,\n",
    "    num_parallel_calls=2)"
   ]
  },
  {
   "cell_type": "code",
   "execution_count": 19,
   "metadata": {},
   "outputs": [
    {
     "data": {
      "text/plain": [
       "<DatasetV1Adapter shapes: ((?, 32, 32, ?), (?,)), types: (tf.float32, tf.int32)>"
      ]
     },
     "execution_count": 19,
     "metadata": {},
     "output_type": "execute_result"
    }
   ],
   "source": [
    "trainOneDataset"
   ]
  },
  {
   "cell_type": "code",
   "execution_count": 20,
   "metadata": {
    "scrolled": true
   },
   "outputs": [
    {
     "name": "stdout",
     "output_type": "stream",
     "text": [
      "Epoch 1/50\n",
      "1/1 [==============================] - 5s 5s/step - loss: 1.8726 - acc: 0.2000\n",
      "Epoch 2/50\n",
      "1/1 [==============================] - 0s 6ms/step - loss: 1.8129 - acc: 0.2000\n",
      "Epoch 3/50\n",
      "1/1 [==============================] - 0s 234ms/step - loss: 1.7670 - acc: 0.0000e+00\n",
      "Epoch 4/50\n",
      "1/1 [==============================] - 0s 242ms/step - loss: 1.7294 - acc: 0.0000e+00\n",
      "Epoch 5/50\n",
      "1/1 [==============================] - 0s 191ms/step - loss: 1.6948 - acc: 0.2000\n",
      "Epoch 6/50\n",
      "1/1 [==============================] - 0s 226ms/step - loss: 1.6606 - acc: 0.2000\n",
      "Epoch 7/50\n",
      "1/1 [==============================] - 0s 222ms/step - loss: 1.6255 - acc: 0.2000\n",
      "Epoch 8/50\n",
      "1/1 [==============================] - 0s 218ms/step - loss: 1.5896 - acc: 0.2000\n",
      "Epoch 9/50\n",
      "1/1 [==============================] - 0s 229ms/step - loss: 1.5531 - acc: 0.2000\n",
      "Epoch 10/50\n",
      "1/1 [==============================] - 0s 246ms/step - loss: 1.5165 - acc: 0.2000\n",
      "Epoch 11/50\n",
      "1/1 [==============================] - 0s 237ms/step - loss: 1.4802 - acc: 0.2000\n",
      "Epoch 12/50\n",
      "1/1 [==============================] - 0s 229ms/step - loss: 1.4444 - acc: 0.2000\n",
      "Epoch 13/50\n",
      "1/1 [==============================] - 0s 195ms/step - loss: 1.4093 - acc: 0.6000\n",
      "Epoch 14/50\n",
      "1/1 [==============================] - 0s 225ms/step - loss: 1.3749 - acc: 0.6000\n",
      "Epoch 15/50\n",
      "1/1 [==============================] - 0s 169ms/step - loss: 1.3411 - acc: 0.8000\n",
      "Epoch 16/50\n",
      "1/1 [==============================] - 0s 224ms/step - loss: 1.3080 - acc: 0.8000\n",
      "Epoch 17/50\n",
      "1/1 [==============================] - 0s 223ms/step - loss: 1.2753 - acc: 0.8000\n",
      "Epoch 18/50\n",
      "1/1 [==============================] - 0s 235ms/step - loss: 1.2430 - acc: 0.8000\n",
      "Epoch 19/50\n",
      "1/1 [==============================] - 0s 231ms/step - loss: 1.2110 - acc: 0.8000\n",
      "Epoch 20/50\n",
      "1/1 [==============================] - 0s 192ms/step - loss: 1.1794 - acc: 0.8000\n",
      "Epoch 21/50\n",
      "1/1 [==============================] - 0s 234ms/step - loss: 1.1483 - acc: 1.0000\n",
      "Epoch 22/50\n",
      "1/1 [==============================] - 0s 227ms/step - loss: 1.1178 - acc: 1.0000\n",
      "Epoch 23/50\n",
      "1/1 [==============================] - 0s 221ms/step - loss: 1.0878 - acc: 1.0000\n",
      "Epoch 24/50\n",
      "1/1 [==============================] - 0s 208ms/step - loss: 1.0585 - acc: 1.0000\n",
      "Epoch 25/50\n",
      "1/1 [==============================] - 0s 204ms/step - loss: 1.0298 - acc: 1.0000\n",
      "Epoch 26/50\n",
      "1/1 [==============================] - 0s 185ms/step - loss: 1.0018 - acc: 1.0000\n",
      "Epoch 27/50\n",
      "1/1 [==============================] - 0s 207ms/step - loss: 0.9743 - acc: 1.0000\n",
      "Epoch 28/50\n",
      "1/1 [==============================] - 0s 171ms/step - loss: 0.9475 - acc: 1.0000\n",
      "Epoch 29/50\n",
      "1/1 [==============================] - 0s 249ms/step - loss: 0.9212 - acc: 1.0000\n",
      "Epoch 30/50\n",
      "1/1 [==============================] - 0s 200ms/step - loss: 0.8956 - acc: 1.0000\n",
      "Epoch 31/50\n",
      "1/1 [==============================] - 0s 198ms/step - loss: 0.8705 - acc: 1.0000\n",
      "Epoch 32/50\n",
      "1/1 [==============================] - 0s 193ms/step - loss: 0.8460 - acc: 1.0000\n",
      "Epoch 33/50\n",
      "1/1 [==============================] - 0s 211ms/step - loss: 0.8222 - acc: 1.0000\n",
      "Epoch 34/50\n",
      "1/1 [==============================] - 0s 216ms/step - loss: 0.7990 - acc: 1.0000\n",
      "Epoch 35/50\n",
      "1/1 [==============================] - 0s 213ms/step - loss: 0.7765 - acc: 1.0000\n",
      "Epoch 36/50\n",
      "1/1 [==============================] - 0s 201ms/step - loss: 0.7546 - acc: 1.0000\n",
      "Epoch 37/50\n",
      "1/1 [==============================] - 0s 185ms/step - loss: 0.7333 - acc: 1.0000\n",
      "Epoch 38/50\n",
      "1/1 [==============================] - 0s 212ms/step - loss: 0.7126 - acc: 1.0000\n",
      "Epoch 39/50\n",
      "1/1 [==============================] - 0s 185ms/step - loss: 0.6925 - acc: 1.0000\n",
      "Epoch 40/50\n",
      "1/1 [==============================] - 0s 233ms/step - loss: 0.6729 - acc: 1.0000\n",
      "Epoch 41/50\n",
      "1/1 [==============================] - 0s 199ms/step - loss: 0.6540 - acc: 1.0000\n",
      "Epoch 42/50\n",
      "1/1 [==============================] - 0s 186ms/step - loss: 0.6356 - acc: 1.0000\n",
      "Epoch 43/50\n",
      "1/1 [==============================] - 0s 234ms/step - loss: 0.6179 - acc: 1.0000\n",
      "Epoch 44/50\n",
      "1/1 [==============================] - 0s 164ms/step - loss: 0.6006 - acc: 1.0000\n",
      "Epoch 45/50\n",
      "1/1 [==============================] - 0s 203ms/step - loss: 0.5840 - acc: 1.0000\n",
      "Epoch 46/50\n",
      "1/1 [==============================] - 0s 213ms/step - loss: 0.5678 - acc: 1.0000\n",
      "Epoch 47/50\n",
      "1/1 [==============================] - 0s 218ms/step - loss: 0.5522 - acc: 1.0000\n",
      "Epoch 48/50\n",
      "1/1 [==============================] - 0s 195ms/step - loss: 0.5371 - acc: 1.0000\n",
      "Epoch 49/50\n",
      "1/1 [==============================] - 0s 216ms/step - loss: 0.5225 - acc: 1.0000\n",
      "Epoch 50/50\n",
      "1/1 [==============================] - 0s 194ms/step - loss: 0.5084 - acc: 1.0000\n"
     ]
    }
   ],
   "source": [
    "historyOne = modelOne.fit(x = trainOneDataset, epochs=EPOCHS_ONE, steps_per_epoch=1, initial_epoch=0)"
   ]
  },
  {
   "cell_type": "code",
   "execution_count": 21,
   "metadata": {},
   "outputs": [
    {
     "data": {
      "image/png": "[encoded data removed]",
      "text/plain": [
       "<Figure size 432x288 with 2 Axes>"
      ]
     },
     "metadata": {
      "needs_background": "light"
     },
     "output_type": "display_data"
    }
   ],
   "source": [
    "drawResults(historyOne,EPOCHS_ONE)"
   ]
  },
  {
   "cell_type": "code",
   "execution_count": 22,
   "metadata": {},
   "outputs": [],
   "source": [
    "modelLineal = linealModel(NUM_CLASSES)\n",
    "modelLineal.compile(loss='sparse_categorical_crossentropy',\n",
    "            optimizer= tf.keras.optimizers.Adam(LEARNING_RATE),\n",
    "            metrics=['accuracy'])"
   ]
  },
  {
   "cell_type": "code",
   "execution_count": 23,
   "metadata": {},
   "outputs": [
    {
     "name": "stdout",
     "output_type": "stream",
     "text": [
      "Epoch 1/80\n",
      "1/1 [==============================] - 2s 2s/step - loss: 1.6016 - acc: 0.2222\n",
      "5/5 [==============================] - 10s 2s/step - loss: 1.7905 - acc: 0.1400 - val_loss: 1.6016 - val_acc: 0.2222\n",
      "Epoch 2/80\n",
      "1/1 [==============================] - 0s 449ms/step - loss: 1.4518 - acc: 0.2222\n",
      "5/5 [==============================] - 3s 592ms/step - loss: 1.3934 - acc: 0.5106 - val_loss: 1.4518 - val_acc: 0.2222\n",
      "Epoch 3/80\n",
      "1/1 [==============================] - 0s 474ms/step - loss: 1.4200 - acc: 0.2222\n",
      "5/5 [==============================] - 2s 489ms/step - loss: 1.3306 - acc: 0.4681 - val_loss: 1.4200 - val_acc: 0.2222\n",
      "Epoch 4/80\n",
      "1/1 [==============================] - 0s 369ms/step - loss: 1.4112 - acc: 0.2222\n",
      "5/5 [==============================] - 3s 620ms/step - loss: 1.2342 - acc: 0.5957 - val_loss: 1.4112 - val_acc: 0.2222\n",
      "Epoch 5/80\n",
      "1/1 [==============================] - 0s 347ms/step - loss: 1.3862 - acc: 0.2222\n",
      "5/5 [==============================] - 2s 432ms/step - loss: 1.3107 - acc: 0.5319 - val_loss: 1.3862 - val_acc: 0.2222\n",
      "Epoch 6/80\n",
      "1/1 [==============================] - 0s 259ms/step - loss: 1.3366 - acc: 0.2222\n",
      "5/5 [==============================] - 2s 420ms/step - loss: 1.2951 - acc: 0.4894 - val_loss: 1.3366 - val_acc: 0.2222\n",
      "Epoch 7/80\n",
      "1/1 [==============================] - 0s 401ms/step - loss: 1.3048 - acc: 0.3333\n",
      "5/5 [==============================] - 2s 446ms/step - loss: 1.2777 - acc: 0.5200 - val_loss: 1.3048 - val_acc: 0.3333\n",
      "Epoch 8/80\n",
      "1/1 [==============================] - 0s 284ms/step - loss: 1.2921 - acc: 0.3333\n",
      "5/5 [==============================] - 2s 462ms/step - loss: 1.2631 - acc: 0.4681 - val_loss: 1.2921 - val_acc: 0.3333\n",
      "Epoch 9/80\n",
      "1/1 [==============================] - 0s 316ms/step - loss: 1.3199 - acc: 0.3333\n",
      "5/5 [==============================] - 2s 450ms/step - loss: 1.1335 - acc: 0.6596 - val_loss: 1.3199 - val_acc: 0.3333\n",
      "Epoch 10/80\n",
      "1/1 [==============================] - 0s 274ms/step - loss: 1.3364 - acc: 0.2222\n",
      "5/5 [==============================] - 2s 449ms/step - loss: 1.1853 - acc: 0.4894 - val_loss: 1.3364 - val_acc: 0.2222\n",
      "Epoch 11/80\n",
      "1/1 [==============================] - 0s 291ms/step - loss: 1.3237 - acc: 0.2222\n",
      "5/5 [==============================] - 2s 464ms/step - loss: 1.2975 - acc: 0.4468 - val_loss: 1.3237 - val_acc: 0.2222\n",
      "Epoch 12/80\n",
      "1/1 [==============================] - 0s 373ms/step - loss: 1.3237 - acc: 0.2222\n",
      "5/5 [==============================] - 3s 522ms/step - loss: 1.1547 - acc: 0.5532 - val_loss: 1.3237 - val_acc: 0.2222\n",
      "Epoch 13/80\n",
      "1/1 [==============================] - 0s 261ms/step - loss: 1.3299 - acc: 0.2222\n",
      "5/5 [==============================] - 2s 429ms/step - loss: 1.1793 - acc: 0.5400 - val_loss: 1.3299 - val_acc: 0.2222\n",
      "Epoch 14/80\n",
      "1/1 [==============================] - 0s 359ms/step - loss: 1.3195 - acc: 0.2222\n",
      "5/5 [==============================] - 3s 519ms/step - loss: 1.1980 - acc: 0.5319 - val_loss: 1.3195 - val_acc: 0.2222\n",
      "Epoch 15/80\n",
      "1/1 [==============================] - 0s 283ms/step - loss: 1.3308 - acc: 0.2222\n",
      "5/5 [==============================] - 2s 384ms/step - loss: 1.0655 - acc: 0.5745 - val_loss: 1.3308 - val_acc: 0.2222\n",
      "Epoch 16/80\n",
      "1/1 [==============================] - 0s 359ms/step - loss: 1.3321 - acc: 0.3333\n",
      "5/5 [==============================] - 2s 482ms/step - loss: 1.1798 - acc: 0.4894 - val_loss: 1.3321 - val_acc: 0.3333\n",
      "Epoch 17/80\n",
      "1/1 [==============================] - 0s 268ms/step - loss: 1.3327 - acc: 0.3333\n",
      "5/5 [==============================] - 2s 422ms/step - loss: 1.2277 - acc: 0.4894 - val_loss: 1.3327 - val_acc: 0.3333\n",
      "Epoch 18/80\n",
      "1/1 [==============================] - 0s 364ms/step - loss: 1.3207 - acc: 0.3333\n",
      "5/5 [==============================] - 2s 471ms/step - loss: 1.1374 - acc: 0.5319 - val_loss: 1.3207 - val_acc: 0.3333\n",
      "Epoch 19/80\n",
      "1/1 [==============================] - 0s 256ms/step - loss: 1.3261 - acc: 0.2222\n",
      "5/5 [==============================] - 2s 435ms/step - loss: 1.1387 - acc: 0.5200 - val_loss: 1.3261 - val_acc: 0.2222\n",
      "Epoch 20/80\n",
      "1/1 [==============================] - 0s 317ms/step - loss: 1.3384 - acc: 0.2222\n",
      "5/5 [==============================] - 2s 486ms/step - loss: 1.1135 - acc: 0.5532 - val_loss: 1.3384 - val_acc: 0.2222\n",
      "Epoch 21/80\n",
      "1/1 [==============================] - 0s 296ms/step - loss: 1.3388 - acc: 0.2222\n",
      "5/5 [==============================] - 2s 421ms/step - loss: 1.0735 - acc: 0.5319 - val_loss: 1.3388 - val_acc: 0.2222\n",
      "Epoch 22/80\n",
      "1/1 [==============================] - 0s 324ms/step - loss: 1.3357 - acc: 0.2222\n",
      "5/5 [==============================] - 2s 422ms/step - loss: 1.1244 - acc: 0.5106 - val_loss: 1.3357 - val_acc: 0.2222\n",
      "Epoch 23/80\n",
      "1/1 [==============================] - 0s 270ms/step - loss: 1.3360 - acc: 0.2222\n",
      "5/5 [==============================] - 2s 363ms/step - loss: 1.1023 - acc: 0.5745 - val_loss: 1.3360 - val_acc: 0.2222\n",
      "Epoch 24/80\n",
      "1/1 [==============================] - 0s 279ms/step - loss: 1.3372 - acc: 0.2222\n",
      "5/5 [==============================] - 2s 467ms/step - loss: 1.0734 - acc: 0.5532 - val_loss: 1.3372 - val_acc: 0.2222\n",
      "Epoch 25/80\n",
      "1/1 [==============================] - 0s 317ms/step - loss: 1.3484 - acc: 0.2222\n",
      "5/5 [==============================] - 2s 404ms/step - loss: 1.0871 - acc: 0.5400 - val_loss: 1.3484 - val_acc: 0.2222\n",
      "Epoch 26/80\n",
      "1/1 [==============================] - 0s 366ms/step - loss: 1.3633 - acc: 0.2222\n",
      "5/5 [==============================] - 2s 480ms/step - loss: 1.0158 - acc: 0.6170 - val_loss: 1.3633 - val_acc: 0.2222\n",
      "Epoch 27/80\n",
      "1/1 [==============================] - 0s 369ms/step - loss: 1.3494 - acc: 0.2222\n",
      "5/5 [==============================] - 2s 461ms/step - loss: 1.0674 - acc: 0.4681 - val_loss: 1.3494 - val_acc: 0.2222\n",
      "Epoch 28/80\n",
      "1/1 [==============================] - 1s 514ms/step - loss: 1.3355 - acc: 0.1111\n",
      "5/5 [==============================] - 3s 581ms/step - loss: 1.0788 - acc: 0.4894 - val_loss: 1.3355 - val_acc: 0.1111\n",
      "Epoch 29/80\n",
      "1/1 [==============================] - 0s 272ms/step - loss: 1.3378 - acc: 0.2222\n",
      "5/5 [==============================] - 2s 418ms/step - loss: 1.0342 - acc: 0.6596 - val_loss: 1.3378 - val_acc: 0.2222\n",
      "Epoch 30/80\n",
      "1/1 [==============================] - 0s 456ms/step - loss: 1.3517 - acc: 0.2222\n",
      "5/5 [==============================] - 3s 554ms/step - loss: 1.0177 - acc: 0.6170 - val_loss: 1.3517 - val_acc: 0.2222\n",
      "Epoch 31/80\n",
      "1/1 [==============================] - 0s 486ms/step - loss: 1.3712 - acc: 0.2222\n",
      "5/5 [==============================] - 3s 697ms/step - loss: 0.9992 - acc: 0.6000 - val_loss: 1.3712 - val_acc: 0.2222\n",
      "Epoch 32/80\n",
      "1/1 [==============================] - 0s 323ms/step - loss: 1.3709 - acc: 0.2222\n",
      "5/5 [==============================] - 2s 478ms/step - loss: 0.9938 - acc: 0.5745 - val_loss: 1.3709 - val_acc: 0.2222\n",
      "Epoch 33/80\n",
      "1/1 [==============================] - 0s 264ms/step - loss: 1.3665 - acc: 0.1111\n",
      "5/5 [==============================] - 3s 502ms/step - loss: 1.0499 - acc: 0.5532 - val_loss: 1.3665 - val_acc: 0.1111\n",
      "Epoch 34/80\n",
      "1/1 [==============================] - 0s 277ms/step - loss: 1.3609 - acc: 0.1111\n",
      "5/5 [==============================] - 2s 486ms/step - loss: 0.9027 - acc: 0.6383 - val_loss: 1.3609 - val_acc: 0.1111\n",
      "Epoch 35/80\n",
      "1/1 [==============================] - 0s 278ms/step - loss: 1.3571 - acc: 0.1111\n",
      "5/5 [==============================] - 2s 379ms/step - loss: 1.0725 - acc: 0.5319 - val_loss: 1.3571 - val_acc: 0.1111\n",
      "Epoch 36/80\n",
      "1/1 [==============================] - 0s 345ms/step - loss: 1.3566 - acc: 0.2222\n",
      "5/5 [==============================] - 2s 468ms/step - loss: 0.9642 - acc: 0.6383 - val_loss: 1.3566 - val_acc: 0.2222\n",
      "Epoch 37/80\n",
      "1/1 [==============================] - 0s 286ms/step - loss: 1.3581 - acc: 0.2222\n",
      "5/5 [==============================] - 2s 403ms/step - loss: 0.9795 - acc: 0.6600 - val_loss: 1.3581 - val_acc: 0.2222\n",
      "Epoch 38/80\n",
      "1/1 [==============================] - 0s 274ms/step - loss: 1.3686 - acc: 0.1111\n",
      "5/5 [==============================] - 2s 458ms/step - loss: 0.9366 - acc: 0.6170 - val_loss: 1.3686 - val_acc: 0.1111\n",
      "Epoch 39/80\n",
      "1/1 [==============================] - 0s 284ms/step - loss: 1.3822 - acc: 0.1111\n",
      "5/5 [==============================] - 2s 386ms/step - loss: 0.9513 - acc: 0.6383 - val_loss: 1.3822 - val_acc: 0.1111\n"
     ]
    },
    {
     "name": "stdout",
     "output_type": "stream",
     "text": [
      "Epoch 40/80\n",
      "1/1 [==============================] - 0s 347ms/step - loss: 1.3811 - acc: 0.1111\n",
      "5/5 [==============================] - 2s 387ms/step - loss: 0.9936 - acc: 0.5745 - val_loss: 1.3811 - val_acc: 0.1111\n",
      "Epoch 41/80\n",
      "1/1 [==============================] - 0s 270ms/step - loss: 1.3844 - acc: 0.3333\n",
      "5/5 [==============================] - 2s 388ms/step - loss: 0.9194 - acc: 0.6170 - val_loss: 1.3844 - val_acc: 0.3333\n",
      "Epoch 42/80\n",
      "1/1 [==============================] - 0s 265ms/step - loss: 1.3899 - acc: 0.3333\n",
      "5/5 [==============================] - 2s 473ms/step - loss: 0.8909 - acc: 0.6170 - val_loss: 1.3899 - val_acc: 0.3333\n",
      "Epoch 43/80\n",
      "1/1 [==============================] - 0s 331ms/step - loss: 1.3793 - acc: 0.2222\n",
      "5/5 [==============================] - 2s 415ms/step - loss: 0.9437 - acc: 0.5800 - val_loss: 1.3793 - val_acc: 0.2222\n",
      "Epoch 44/80\n",
      "1/1 [==============================] - 0s 294ms/step - loss: 1.3805 - acc: 0.2222\n",
      "5/5 [==============================] - 2s 414ms/step - loss: 0.9104 - acc: 0.6596 - val_loss: 1.3805 - val_acc: 0.2222\n",
      "Epoch 45/80\n",
      "1/1 [==============================] - 0s 293ms/step - loss: 1.3860 - acc: 0.1111\n",
      "5/5 [==============================] - 2s 410ms/step - loss: 0.8988 - acc: 0.6809 - val_loss: 1.3860 - val_acc: 0.1111\n",
      "Epoch 46/80\n",
      "1/1 [==============================] - 0s 292ms/step - loss: 1.3799 - acc: 0.3333\n",
      "5/5 [==============================] - 2s 394ms/step - loss: 0.9383 - acc: 0.6596 - val_loss: 1.3799 - val_acc: 0.3333\n",
      "Epoch 47/80\n",
      "1/1 [==============================] - 0s 284ms/step - loss: 1.3731 - acc: 0.3333\n",
      "5/5 [==============================] - 2s 385ms/step - loss: 0.8016 - acc: 0.7447 - val_loss: 1.3731 - val_acc: 0.3333\n",
      "Epoch 48/80\n",
      "1/1 [==============================] - 0s 271ms/step - loss: 1.3818 - acc: 0.3333\n",
      "5/5 [==============================] - 2s 406ms/step - loss: 0.9465 - acc: 0.6383 - val_loss: 1.3818 - val_acc: 0.3333\n",
      "Epoch 49/80\n",
      "1/1 [==============================] - 0s 274ms/step - loss: 1.3837 - acc: 0.2222\n",
      "5/5 [==============================] - 2s 373ms/step - loss: 0.8319 - acc: 0.6600 - val_loss: 1.3837 - val_acc: 0.2222\n",
      "Epoch 50/80\n",
      "1/1 [==============================] - 0s 297ms/step - loss: 1.3814 - acc: 0.1111\n",
      "5/5 [==============================] - 2s 451ms/step - loss: 0.9105 - acc: 0.7021 - val_loss: 1.3814 - val_acc: 0.1111\n",
      "Epoch 51/80\n",
      "1/1 [==============================] - 0s 274ms/step - loss: 1.3855 - acc: 0.1111\n",
      "5/5 [==============================] - 2s 358ms/step - loss: 0.8500 - acc: 0.6596 - val_loss: 1.3855 - val_acc: 0.1111\n",
      "Epoch 52/80\n",
      "1/1 [==============================] - 0s 288ms/step - loss: 1.4044 - acc: 0.1111\n",
      "5/5 [==============================] - 2s 442ms/step - loss: 0.9070 - acc: 0.6170 - val_loss: 1.4044 - val_acc: 0.1111\n",
      "Epoch 53/80\n",
      "1/1 [==============================] - 0s 313ms/step - loss: 1.4180 - acc: 0.1111\n",
      "5/5 [==============================] - 2s 386ms/step - loss: 0.8731 - acc: 0.6809 - val_loss: 1.4180 - val_acc: 0.1111\n",
      "Epoch 54/80\n",
      "1/1 [==============================] - 0s 361ms/step - loss: 1.4229 - acc: 0.3333\n",
      "5/5 [==============================] - 2s 406ms/step - loss: 0.7837 - acc: 0.6809 - val_loss: 1.4229 - val_acc: 0.3333\n",
      "Epoch 55/80\n",
      "1/1 [==============================] - 0s 324ms/step - loss: 1.4231 - acc: 0.3333\n",
      "5/5 [==============================] - 2s 410ms/step - loss: 0.8321 - acc: 0.6400 - val_loss: 1.4231 - val_acc: 0.3333\n",
      "Epoch 56/80\n",
      "1/1 [==============================] - 0s 304ms/step - loss: 1.4185 - acc: 0.3333\n",
      "5/5 [==============================] - 2s 456ms/step - loss: 0.8587 - acc: 0.6596 - val_loss: 1.4185 - val_acc: 0.3333\n",
      "Epoch 57/80\n",
      "1/1 [==============================] - 0s 382ms/step - loss: 1.4233 - acc: 0.3333\n",
      "5/5 [==============================] - 2s 364ms/step - loss: 0.8260 - acc: 0.7021 - val_loss: 1.4233 - val_acc: 0.3333\n",
      "Epoch 58/80\n",
      "1/1 [==============================] - 0s 297ms/step - loss: 1.4208 - acc: 0.1111\n",
      "5/5 [==============================] - 2s 385ms/step - loss: 0.7876 - acc: 0.7872 - val_loss: 1.4208 - val_acc: 0.1111\n",
      "Epoch 59/80\n",
      "1/1 [==============================] - 0s 292ms/step - loss: 1.4203 - acc: 0.2222\n",
      "5/5 [==============================] - 2s 453ms/step - loss: 0.8138 - acc: 0.6809 - val_loss: 1.4203 - val_acc: 0.2222\n",
      "Epoch 60/80\n",
      "1/1 [==============================] - 0s 246ms/step - loss: 1.4254 - acc: 0.1111\n",
      "5/5 [==============================] - 2s 348ms/step - loss: 0.7943 - acc: 0.7447 - val_loss: 1.4254 - val_acc: 0.1111\n",
      "Epoch 61/80\n",
      "1/1 [==============================] - 0s 294ms/step - loss: 1.4328 - acc: 0.3333\n",
      "5/5 [==============================] - 2s 397ms/step - loss: 0.7908 - acc: 0.7400 - val_loss: 1.4328 - val_acc: 0.3333\n",
      "Epoch 62/80\n",
      "1/1 [==============================] - 0s 310ms/step - loss: 1.4359 - acc: 0.3333\n",
      "5/5 [==============================] - 2s 453ms/step - loss: 0.8024 - acc: 0.7021 - val_loss: 1.4359 - val_acc: 0.3333\n",
      "Epoch 63/80\n",
      "1/1 [==============================] - 0s 308ms/step - loss: 1.4363 - acc: 0.3333\n",
      "5/5 [==============================] - 2s 413ms/step - loss: 0.8303 - acc: 0.7234 - val_loss: 1.4363 - val_acc: 0.3333\n",
      "Epoch 64/80\n",
      "1/1 [==============================] - 0s 354ms/step - loss: 1.4422 - acc: 0.3333\n",
      "5/5 [==============================] - 2s 375ms/step - loss: 0.7333 - acc: 0.7872 - val_loss: 1.4422 - val_acc: 0.3333\n",
      "Epoch 65/80\n",
      "1/1 [==============================] - 0s 246ms/step - loss: 1.4514 - acc: 0.1111\n",
      "5/5 [==============================] - 2s 368ms/step - loss: 0.7654 - acc: 0.7234 - val_loss: 1.4514 - val_acc: 0.1111\n",
      "Epoch 66/80\n",
      "1/1 [==============================] - 0s 295ms/step - loss: 1.4542 - acc: 0.1111\n",
      "5/5 [==============================] - 2s 389ms/step - loss: 0.7749 - acc: 0.6809 - val_loss: 1.4542 - val_acc: 0.1111\n",
      "Epoch 67/80\n",
      "1/1 [==============================] - 0s 268ms/step - loss: 1.4491 - acc: 0.3333\n",
      "5/5 [==============================] - 2s 375ms/step - loss: 0.7718 - acc: 0.7000 - val_loss: 1.4491 - val_acc: 0.3333\n",
      "Epoch 68/80\n",
      "1/1 [==============================] - 0s 274ms/step - loss: 1.4471 - acc: 0.3333\n",
      "5/5 [==============================] - 2s 446ms/step - loss: 0.7986 - acc: 0.6809 - val_loss: 1.4471 - val_acc: 0.3333\n",
      "Epoch 69/80\n",
      "1/1 [==============================] - 0s 289ms/step - loss: 1.4503 - acc: 0.3333\n",
      "5/5 [==============================] - 2s 370ms/step - loss: 0.7172 - acc: 0.7234 - val_loss: 1.4503 - val_acc: 0.3333\n",
      "Epoch 70/80\n",
      "1/1 [==============================] - 0s 361ms/step - loss: 1.4540 - acc: 0.3333\n",
      "5/5 [==============================] - 2s 427ms/step - loss: 0.7264 - acc: 0.7234 - val_loss: 1.4540 - val_acc: 0.3333\n",
      "Epoch 71/80\n",
      "1/1 [==============================] - 0s 263ms/step - loss: 1.4595 - acc: 0.3333\n",
      "5/5 [==============================] - 2s 399ms/step - loss: 0.7760 - acc: 0.7660 - val_loss: 1.4595 - val_acc: 0.3333\n",
      "Epoch 72/80\n",
      "1/1 [==============================] - 0s 324ms/step - loss: 1.4648 - acc: 0.3333\n",
      "5/5 [==============================] - 2s 401ms/step - loss: 0.6709 - acc: 0.7872 - val_loss: 1.4648 - val_acc: 0.3333\n",
      "Epoch 73/80\n",
      "1/1 [==============================] - 0s 274ms/step - loss: 1.4742 - acc: 0.3333\n",
      "5/5 [==============================] - 2s 396ms/step - loss: 0.7429 - acc: 0.7000 - val_loss: 1.4742 - val_acc: 0.3333\n",
      "Epoch 74/80\n",
      "1/1 [==============================] - 0s 291ms/step - loss: 1.4698 - acc: 0.3333\n",
      "5/5 [==============================] - 2s 432ms/step - loss: 0.7199 - acc: 0.7234 - val_loss: 1.4698 - val_acc: 0.3333\n",
      "Epoch 75/80\n",
      "1/1 [==============================] - 0s 300ms/step - loss: 1.4727 - acc: 0.3333\n",
      "5/5 [==============================] - 2s 369ms/step - loss: 0.6912 - acc: 0.7872 - val_loss: 1.4727 - val_acc: 0.3333\n",
      "Epoch 76/80\n",
      "1/1 [==============================] - 0s 324ms/step - loss: 1.4781 - acc: 0.3333\n",
      "5/5 [==============================] - 2s 439ms/step - loss: 0.7143 - acc: 0.7234 - val_loss: 1.4781 - val_acc: 0.3333\n",
      "Epoch 77/80\n",
      "1/1 [==============================] - 0s 309ms/step - loss: 1.4786 - acc: 0.3333\n",
      "5/5 [==============================] - 2s 337ms/step - loss: 0.7100 - acc: 0.7660 - val_loss: 1.4786 - val_acc: 0.3333\n",
      "Epoch 78/80\n",
      "1/1 [==============================] - 0s 284ms/step - loss: 1.4836 - acc: 0.3333\n",
      "5/5 [==============================] - 2s 419ms/step - loss: 0.7112 - acc: 0.7872 - val_loss: 1.4836 - val_acc: 0.3333\n"
     ]
    },
    {
     "name": "stdout",
     "output_type": "stream",
     "text": [
      "Epoch 79/80\n",
      "1/1 [==============================] - 0s 260ms/step - loss: 1.5022 - acc: 0.3333\n",
      "5/5 [==============================] - 2s 414ms/step - loss: 0.7042 - acc: 0.7600 - val_loss: 1.5022 - val_acc: 0.3333\n",
      "Epoch 80/80\n",
      "1/1 [==============================] - 0s 294ms/step - loss: 1.5061 - acc: 0.3333\n",
      "5/5 [==============================] - 2s 452ms/step - loss: 0.6823 - acc: 0.8298 - val_loss: 1.5061 - val_acc: 0.3333\n"
     ]
    }
   ],
   "source": [
    "historyLineal = modelLineal.fit(x = trainDataset, epochs=EPOCHS, steps_per_epoch=(len(trainSources)//BACH_SIZE), initial_epoch=0,\n",
    "                         validation_data = valDataset, validation_steps= VALIDATION_STEP)"
   ]
  },
  {
   "cell_type": "code",
   "execution_count": 24,
   "metadata": {},
   "outputs": [
    {
     "data": {
      "image/png": "[encoded data removed]",
      "text/plain": [
       "<Figure size 432x288 with 2 Axes>"
      ]
     },
     "metadata": {
      "needs_background": "light"
     },
     "output_type": "display_data"
    }
   ],
   "source": [
    "drawResults(historyLineal,EPOCHS, True)"
   ]
  },
  {
   "cell_type": "markdown",
   "metadata": {},
   "source": [
    "## LetNet"
   ]
  },
  {
   "cell_type": "code",
   "execution_count": 21,
   "metadata": {},
   "outputs": [],
   "source": [
    "BACH_SIZE = 10\n",
    "NUM_CLASSES = 5\n",
    "VALIDATION_STEP = 1\n",
    "LEARNING_RATE = 0.0001\n",
    "EPOCHS = 80\n",
    "EPOCHS_ONE = 50"
   ]
  },
  {
   "cell_type": "code",
   "execution_count": 22,
   "metadata": {},
   "outputs": [
    {
     "name": "stdout",
     "output_type": "stream",
     "text": [
      "_________________________________________________________________\n",
      "Layer (type)                 Output Shape              Param #   \n",
      "=================================================================\n",
      "conv2d (Conv2D)              (None, 32, 32, 6)         456       \n",
      "_________________________________________________________________\n",
      "average_pooling2d (AveragePo (None, 16, 16, 6)         0         \n",
      "_________________________________________________________________\n",
      "conv2d_1 (Conv2D)            (None, 12, 12, 16)        2416      \n",
      "_________________________________________________________________\n",
      "average_pooling2d_1 (Average (None, 6, 6, 16)          0         \n",
      "_________________________________________________________________\n",
      "conv2d_2 (Conv2D)            (None, 2, 2, 16)          6416      \n",
      "_________________________________________________________________\n",
      "flatten_2 (Flatten)          (None, 64)                0         \n",
      "_________________________________________________________________\n",
      "dense_2 (Dense)              (None, 84)                5460      \n",
      "_________________________________________________________________\n",
      "dense_3 (Dense)              (None, 5)                 425       \n",
      "=================================================================\n",
      "Total params: 15,173\n",
      "Trainable params: 15,173\n",
      "Non-trainable params: 0\n",
      "_________________________________________________________________\n"
     ]
    }
   ],
   "source": [
    "modelLetNet = letNetModel(NUM_CLASSES)\n",
    "modelLetNet.compile(loss='sparse_categorical_crossentropy',\n",
    "            optimizer= tf.keras.optimizers.Adam(LEARNING_RATE),\n",
    "            metrics=['accuracy'])\n",
    "modelLetNet.summary()"
   ]
  },
  {
   "cell_type": "code",
   "execution_count": 23,
   "metadata": {},
   "outputs": [
    {
     "name": "stdout",
     "output_type": "stream",
     "text": [
      "Epoch 1/80\n",
      "1/1 [==============================] - 1s 858ms/step - loss: 1.6470 - acc: 0.1111\n",
      "5/5 [==============================] - 10s 2s/step - loss: 1.5803 - acc: 0.3800 - val_loss: 1.6470 - val_acc: 0.1111\n",
      "Epoch 2/80\n",
      "1/1 [==============================] - 1s 587ms/step - loss: 1.6801 - acc: 0.2222\n",
      "5/5 [==============================] - 3s 612ms/step - loss: 1.5228 - acc: 0.5106 - val_loss: 1.6801 - val_acc: 0.2222\n",
      "Epoch 3/80\n",
      "1/1 [==============================] - 1s 552ms/step - loss: 1.7243 - acc: 0.2222\n",
      "5/5 [==============================] - 3s 577ms/step - loss: 1.4461 - acc: 0.5106 - val_loss: 1.7243 - val_acc: 0.2222\n",
      "Epoch 4/80\n",
      "1/1 [==============================] - 0s 249ms/step - loss: 1.7681 - acc: 0.2222\n",
      "5/5 [==============================] - 2s 346ms/step - loss: 1.3943 - acc: 0.5745 - val_loss: 1.7681 - val_acc: 0.2222\n",
      "Epoch 5/80\n",
      "1/1 [==============================] - 0s 300ms/step - loss: 1.8094 - acc: 0.2222\n",
      "5/5 [==============================] - 2s 384ms/step - loss: 1.3785 - acc: 0.5745 - val_loss: 1.8094 - val_acc: 0.2222\n",
      "Epoch 6/80\n",
      "1/1 [==============================] - 0s 287ms/step - loss: 1.8405 - acc: 0.2222\n",
      "5/5 [==============================] - 2s 432ms/step - loss: 1.4025 - acc: 0.5106 - val_loss: 1.8405 - val_acc: 0.2222\n",
      "Epoch 7/80\n",
      "1/1 [==============================] - 0s 297ms/step - loss: 1.8641 - acc: 0.2222\n",
      "5/5 [==============================] - 2s 476ms/step - loss: 1.3031 - acc: 0.5600 - val_loss: 1.8641 - val_acc: 0.2222\n",
      "Epoch 8/80\n",
      "1/1 [==============================] - 0s 293ms/step - loss: 1.8743 - acc: 0.2222\n",
      "5/5 [==============================] - 2s 465ms/step - loss: 1.3532 - acc: 0.5319 - val_loss: 1.8743 - val_acc: 0.2222\n",
      "Epoch 9/80\n",
      "1/1 [==============================] - 0s 318ms/step - loss: 1.8959 - acc: 0.2222\n",
      "5/5 [==============================] - 2s 408ms/step - loss: 1.3124 - acc: 0.5532 - val_loss: 1.8959 - val_acc: 0.2222\n",
      "Epoch 10/80\n",
      "1/1 [==============================] - 0s 281ms/step - loss: 1.9085 - acc: 0.2222\n",
      "5/5 [==============================] - 2s 423ms/step - loss: 1.2344 - acc: 0.5957 - val_loss: 1.9085 - val_acc: 0.2222\n",
      "Epoch 11/80\n",
      "1/1 [==============================] - 0s 302ms/step - loss: 1.9076 - acc: 0.2222\n",
      "5/5 [==============================] - 2s 421ms/step - loss: 1.3669 - acc: 0.5106 - val_loss: 1.9076 - val_acc: 0.2222\n",
      "Epoch 12/80\n",
      "1/1 [==============================] - 0s 289ms/step - loss: 1.8974 - acc: 0.2222\n",
      "5/5 [==============================] - 2s 434ms/step - loss: 1.3048 - acc: 0.5106 - val_loss: 1.8974 - val_acc: 0.2222\n",
      "Epoch 13/80\n",
      "1/1 [==============================] - 0s 300ms/step - loss: 1.9028 - acc: 0.2222\n",
      "5/5 [==============================] - 2s 447ms/step - loss: 1.2224 - acc: 0.5800 - val_loss: 1.9028 - val_acc: 0.2222\n",
      "Epoch 14/80\n",
      "1/1 [==============================] - 0s 434ms/step - loss: 1.9071 - acc: 0.2222\n",
      "5/5 [==============================] - 3s 508ms/step - loss: 1.3096 - acc: 0.5319 - val_loss: 1.9071 - val_acc: 0.2222\n",
      "Epoch 15/80\n",
      "1/1 [==============================] - 0s 276ms/step - loss: 1.8846 - acc: 0.2222\n",
      "5/5 [==============================] - 2s 327ms/step - loss: 1.3561 - acc: 0.4894 - val_loss: 1.8846 - val_acc: 0.2222\n",
      "Epoch 16/80\n",
      "1/1 [==============================] - 0s 326ms/step - loss: 1.8846 - acc: 0.2222\n",
      "5/5 [==============================] - 2s 481ms/step - loss: 1.1871 - acc: 0.5957 - val_loss: 1.8846 - val_acc: 0.2222\n",
      "Epoch 17/80\n",
      "1/1 [==============================] - 0s 284ms/step - loss: 1.9022 - acc: 0.2222\n",
      "5/5 [==============================] - 2s 389ms/step - loss: 1.3067 - acc: 0.4894 - val_loss: 1.9022 - val_acc: 0.2222\n",
      "Epoch 18/80\n",
      "1/1 [==============================] - 0s 317ms/step - loss: 1.9121 - acc: 0.2222\n",
      "5/5 [==============================] - 2s 437ms/step - loss: 1.2255 - acc: 0.5745 - val_loss: 1.9121 - val_acc: 0.2222\n",
      "Epoch 19/80\n",
      "1/1 [==============================] - 0s 354ms/step - loss: 1.9225 - acc: 0.2222\n",
      "5/5 [==============================] - 3s 518ms/step - loss: 1.2408 - acc: 0.5400 - val_loss: 1.9225 - val_acc: 0.2222\n",
      "Epoch 20/80\n",
      "1/1 [==============================] - 0s 340ms/step - loss: 1.9388 - acc: 0.2222\n",
      "5/5 [==============================] - 2s 494ms/step - loss: 1.1776 - acc: 0.6170 - val_loss: 1.9388 - val_acc: 0.2222\n",
      "Epoch 21/80\n",
      "1/1 [==============================] - 0s 331ms/step - loss: 1.9497 - acc: 0.2222\n",
      "5/5 [==============================] - 2s 450ms/step - loss: 1.2985 - acc: 0.4681 - val_loss: 1.9497 - val_acc: 0.2222\n",
      "Epoch 22/80\n",
      "1/1 [==============================] - 0s 339ms/step - loss: 1.9477 - acc: 0.2222\n",
      "5/5 [==============================] - 2s 419ms/step - loss: 1.1719 - acc: 0.5745 - val_loss: 1.9477 - val_acc: 0.2222\n",
      "Epoch 23/80\n",
      "1/1 [==============================] - 0s 303ms/step - loss: 1.9550 - acc: 0.2222\n",
      "5/5 [==============================] - 2s 400ms/step - loss: 1.3110 - acc: 0.4894 - val_loss: 1.9550 - val_acc: 0.2222\n",
      "Epoch 24/80\n",
      "1/1 [==============================] - 0s 343ms/step - loss: 1.9577 - acc: 0.2222\n",
      "5/5 [==============================] - 2s 462ms/step - loss: 1.1527 - acc: 0.6170 - val_loss: 1.9577 - val_acc: 0.2222\n",
      "Epoch 25/80\n",
      "1/1 [==============================] - 0s 266ms/step - loss: 1.9490 - acc: 0.2222\n",
      "5/5 [==============================] - 2s 452ms/step - loss: 1.2595 - acc: 0.5600 - val_loss: 1.9490 - val_acc: 0.2222\n",
      "Epoch 26/80\n",
      "1/1 [==============================] - 0s 335ms/step - loss: 1.9832 - acc: 0.2222\n",
      "5/5 [==============================] - 2s 458ms/step - loss: 1.0860 - acc: 0.6170 - val_loss: 1.9832 - val_acc: 0.2222\n",
      "Epoch 27/80\n",
      "1/1 [==============================] - 0s 302ms/step - loss: 1.9799 - acc: 0.2222\n",
      "5/5 [==============================] - 2s 413ms/step - loss: 1.3080 - acc: 0.5319 - val_loss: 1.9799 - val_acc: 0.2222\n",
      "Epoch 28/80\n",
      "1/1 [==============================] - 0s 255ms/step - loss: 1.9799 - acc: 0.2222\n",
      "5/5 [==============================] - 2s 368ms/step - loss: 1.1234 - acc: 0.6596 - val_loss: 1.9799 - val_acc: 0.2222\n",
      "Epoch 29/80\n",
      "1/1 [==============================] - 0s 386ms/step - loss: 1.9812 - acc: 0.2222\n",
      "5/5 [==============================] - 2s 467ms/step - loss: 1.1211 - acc: 0.6383 - val_loss: 1.9812 - val_acc: 0.2222\n",
      "Epoch 30/80\n",
      "1/1 [==============================] - 0s 290ms/step - loss: 1.9901 - acc: 0.2222\n",
      "5/5 [==============================] - 2s 398ms/step - loss: 1.3032 - acc: 0.5319 - val_loss: 1.9901 - val_acc: 0.2222\n",
      "Epoch 31/80\n",
      "1/1 [==============================] - 0s 385ms/step - loss: 1.9773 - acc: 0.2222\n",
      "5/5 [==============================] - 2s 444ms/step - loss: 1.1495 - acc: 0.6000 - val_loss: 1.9773 - val_acc: 0.2222\n",
      "Epoch 32/80\n",
      "1/1 [==============================] - 0s 417ms/step - loss: 1.9849 - acc: 0.2222\n",
      "5/5 [==============================] - 3s 568ms/step - loss: 1.1811 - acc: 0.5532 - val_loss: 1.9849 - val_acc: 0.2222\n",
      "Epoch 33/80\n",
      "1/1 [==============================] - 0s 304ms/step - loss: 1.9801 - acc: 0.2222\n",
      "5/5 [==============================] - 2s 427ms/step - loss: 1.1394 - acc: 0.5957 - val_loss: 1.9801 - val_acc: 0.2222\n",
      "Epoch 34/80\n",
      "1/1 [==============================] - 0s 327ms/step - loss: 1.9566 - acc: 0.2222\n",
      "5/5 [==============================] - 2s 408ms/step - loss: 1.2923 - acc: 0.4894 - val_loss: 1.9566 - val_acc: 0.2222\n",
      "Epoch 35/80\n",
      "1/1 [==============================] - 0s 324ms/step - loss: 1.9518 - acc: 0.2222\n",
      "5/5 [==============================] - 2s 381ms/step - loss: 1.1111 - acc: 0.6383 - val_loss: 1.9518 - val_acc: 0.2222\n",
      "Epoch 36/80\n",
      "1/1 [==============================] - 0s 308ms/step - loss: 1.9682 - acc: 0.2222\n",
      "5/5 [==============================] - 2s 372ms/step - loss: 1.1760 - acc: 0.5745 - val_loss: 1.9682 - val_acc: 0.2222\n",
      "Epoch 37/80\n",
      "1/1 [==============================] - 0s 320ms/step - loss: 1.9914 - acc: 0.2222\n",
      "5/5 [==============================] - 2s 386ms/step - loss: 1.1754 - acc: 0.5600 - val_loss: 1.9914 - val_acc: 0.2222\n",
      "Epoch 38/80\n",
      "1/1 [==============================] - 0s 391ms/step - loss: 2.0443 - acc: 0.2222\n",
      "5/5 [==============================] - 2s 493ms/step - loss: 1.1044 - acc: 0.6170 - val_loss: 2.0443 - val_acc: 0.2222\n",
      "Epoch 39/80\n",
      "1/1 [==============================] - 0s 354ms/step - loss: 2.0501 - acc: 0.2222\n",
      "5/5 [==============================] - 2s 367ms/step - loss: 1.0909 - acc: 0.5957 - val_loss: 2.0501 - val_acc: 0.2222\n"
     ]
    },
    {
     "name": "stdout",
     "output_type": "stream",
     "text": [
      "Epoch 40/80\n",
      "1/1 [==============================] - 0s 302ms/step - loss: 2.0161 - acc: 0.2222\n",
      "5/5 [==============================] - 2s 380ms/step - loss: 1.2629 - acc: 0.5106 - val_loss: 2.0161 - val_acc: 0.2222\n",
      "Epoch 41/80\n",
      "1/1 [==============================] - 0s 252ms/step - loss: 1.9833 - acc: 0.2222\n",
      "5/5 [==============================] - 2s 419ms/step - loss: 1.1544 - acc: 0.5957 - val_loss: 1.9833 - val_acc: 0.2222\n",
      "Epoch 42/80\n",
      "1/1 [==============================] - 0s 319ms/step - loss: 1.9714 - acc: 0.2222\n",
      "5/5 [==============================] - 2s 401ms/step - loss: 1.0930 - acc: 0.6383 - val_loss: 1.9714 - val_acc: 0.2222\n",
      "Epoch 43/80\n",
      "1/1 [==============================] - 0s 267ms/step - loss: 1.9701 - acc: 0.2222\n",
      "5/5 [==============================] - 2s 382ms/step - loss: 1.1375 - acc: 0.5800 - val_loss: 1.9701 - val_acc: 0.2222\n",
      "Epoch 44/80\n",
      "1/1 [==============================] - 0s 278ms/step - loss: 2.0476 - acc: 0.2222\n",
      "5/5 [==============================] - 2s 466ms/step - loss: 1.1162 - acc: 0.6170 - val_loss: 2.0476 - val_acc: 0.2222\n",
      "Epoch 45/80\n",
      "1/1 [==============================] - 0s 346ms/step - loss: 2.0602 - acc: 0.2222\n",
      "5/5 [==============================] - 2s 388ms/step - loss: 1.0444 - acc: 0.6383 - val_loss: 2.0602 - val_acc: 0.2222\n",
      "Epoch 46/80\n",
      "1/1 [==============================] - 0s 350ms/step - loss: 2.0386 - acc: 0.2222\n",
      "5/5 [==============================] - 2s 418ms/step - loss: 1.1945 - acc: 0.5957 - val_loss: 2.0386 - val_acc: 0.2222\n",
      "Epoch 47/80\n",
      "1/1 [==============================] - 0s 268ms/step - loss: 2.0111 - acc: 0.2222\n",
      "5/5 [==============================] - 2s 398ms/step - loss: 1.1138 - acc: 0.5532 - val_loss: 2.0111 - val_acc: 0.2222\n",
      "Epoch 48/80\n",
      "1/1 [==============================] - 0s 319ms/step - loss: 2.0196 - acc: 0.2222\n",
      "5/5 [==============================] - 2s 369ms/step - loss: 1.1591 - acc: 0.5957 - val_loss: 2.0196 - val_acc: 0.2222\n",
      "Epoch 49/80\n",
      "1/1 [==============================] - 0s 251ms/step - loss: 2.0074 - acc: 0.2222\n",
      "5/5 [==============================] - 2s 410ms/step - loss: 1.0707 - acc: 0.6200 - val_loss: 2.0074 - val_acc: 0.2222\n",
      "Epoch 50/80\n",
      "1/1 [==============================] - 0s 309ms/step - loss: 1.9734 - acc: 0.2222\n",
      "5/5 [==============================] - 2s 467ms/step - loss: 1.2090 - acc: 0.5745 - val_loss: 1.9734 - val_acc: 0.2222\n",
      "Epoch 51/80\n",
      "1/1 [==============================] - 0s 318ms/step - loss: 1.9997 - acc: 0.2222\n",
      "5/5 [==============================] - 2s 386ms/step - loss: 0.9908 - acc: 0.6383 - val_loss: 1.9997 - val_acc: 0.2222\n",
      "Epoch 52/80\n",
      "1/1 [==============================] - 0s 343ms/step - loss: 2.0194 - acc: 0.2222\n",
      "5/5 [==============================] - 2s 389ms/step - loss: 1.1740 - acc: 0.6170 - val_loss: 2.0194 - val_acc: 0.2222\n",
      "Epoch 53/80\n",
      "1/1 [==============================] - 0s 276ms/step - loss: 2.0441 - acc: 0.2222\n",
      "5/5 [==============================] - 2s 403ms/step - loss: 1.0997 - acc: 0.5745 - val_loss: 2.0441 - val_acc: 0.2222\n",
      "Epoch 54/80\n",
      "1/1 [==============================] - 0s 291ms/step - loss: 2.0116 - acc: 0.2222\n",
      "5/5 [==============================] - 2s 360ms/step - loss: 1.0644 - acc: 0.5957 - val_loss: 2.0116 - val_acc: 0.2222\n",
      "Epoch 55/80\n",
      "1/1 [==============================] - 0s 298ms/step - loss: 2.0220 - acc: 0.2222\n",
      "5/5 [==============================] - 2s 389ms/step - loss: 1.0588 - acc: 0.6000 - val_loss: 2.0220 - val_acc: 0.2222\n",
      "Epoch 56/80\n",
      "1/1 [==============================] - 0s 312ms/step - loss: 1.9942 - acc: 0.2222\n",
      "5/5 [==============================] - 2s 482ms/step - loss: 1.1878 - acc: 0.5532 - val_loss: 1.9942 - val_acc: 0.2222\n",
      "Epoch 57/80\n",
      "1/1 [==============================] - 0s 298ms/step - loss: 2.0095 - acc: 0.2222\n",
      "5/5 [==============================] - 2s 328ms/step - loss: 0.9800 - acc: 0.6596 - val_loss: 2.0095 - val_acc: 0.2222\n",
      "Epoch 58/80\n",
      "1/1 [==============================] - 0s 294ms/step - loss: 2.0062 - acc: 0.2222\n",
      "5/5 [==============================] - 2s 396ms/step - loss: 1.0144 - acc: 0.5745 - val_loss: 2.0062 - val_acc: 0.2222\n",
      "Epoch 59/80\n",
      "1/1 [==============================] - 0s 327ms/step - loss: 2.0201 - acc: 0.2222\n",
      "5/5 [==============================] - 2s 447ms/step - loss: 1.0829 - acc: 0.6383 - val_loss: 2.0201 - val_acc: 0.2222\n",
      "Epoch 60/80\n",
      "1/1 [==============================] - 0s 264ms/step - loss: 2.0529 - acc: 0.2222\n",
      "5/5 [==============================] - 2s 349ms/step - loss: 1.1405 - acc: 0.5532 - val_loss: 2.0529 - val_acc: 0.2222\n",
      "Epoch 61/80\n",
      "1/1 [==============================] - 0s 342ms/step - loss: 2.0146 - acc: 0.2222\n",
      "5/5 [==============================] - 2s 385ms/step - loss: 1.0538 - acc: 0.5800 - val_loss: 2.0146 - val_acc: 0.2222\n",
      "Epoch 62/80\n",
      "1/1 [==============================] - 0s 268ms/step - loss: 2.0550 - acc: 0.2222\n",
      "5/5 [==============================] - 2s 441ms/step - loss: 0.9680 - acc: 0.6809 - val_loss: 2.0550 - val_acc: 0.2222\n",
      "Epoch 63/80\n",
      "1/1 [==============================] - 0s 276ms/step - loss: 2.0064 - acc: 0.2222\n",
      "5/5 [==============================] - 2s 366ms/step - loss: 1.2096 - acc: 0.4681 - val_loss: 2.0064 - val_acc: 0.2222\n",
      "Epoch 64/80\n",
      "1/1 [==============================] - 0s 321ms/step - loss: 2.0108 - acc: 0.2222\n",
      "5/5 [==============================] - 2s 392ms/step - loss: 0.9078 - acc: 0.7234 - val_loss: 2.0108 - val_acc: 0.2222\n",
      "Epoch 65/80\n",
      "1/1 [==============================] - 0s 309ms/step - loss: 2.0083 - acc: 0.2222\n",
      "5/5 [==============================] - 2s 373ms/step - loss: 1.1300 - acc: 0.4894 - val_loss: 2.0083 - val_acc: 0.2222\n",
      "Epoch 66/80\n",
      "1/1 [==============================] - 0s 300ms/step - loss: 2.0187 - acc: 0.2222\n",
      "5/5 [==============================] - 2s 408ms/step - loss: 1.0651 - acc: 0.6170 - val_loss: 2.0187 - val_acc: 0.2222\n",
      "Epoch 67/80\n",
      "1/1 [==============================] - 0s 233ms/step - loss: 2.0270 - acc: 0.2222\n",
      "5/5 [==============================] - 2s 387ms/step - loss: 1.0371 - acc: 0.5800 - val_loss: 2.0270 - val_acc: 0.2222\n",
      "Epoch 68/80\n",
      "1/1 [==============================] - 0s 271ms/step - loss: 2.0667 - acc: 0.2222\n",
      "5/5 [==============================] - 2s 438ms/step - loss: 0.9631 - acc: 0.6383 - val_loss: 2.0667 - val_acc: 0.2222\n",
      "Epoch 69/80\n",
      "1/1 [==============================] - 0s 353ms/step - loss: 2.0592 - acc: 0.2222\n",
      "5/5 [==============================] - 2s 419ms/step - loss: 1.0668 - acc: 0.6383 - val_loss: 2.0592 - val_acc: 0.2222\n",
      "Epoch 70/80\n",
      "1/1 [==============================] - 0s 335ms/step - loss: 2.0434 - acc: 0.2222\n",
      "5/5 [==============================] - 2s 440ms/step - loss: 1.0861 - acc: 0.5957 - val_loss: 2.0434 - val_acc: 0.2222\n",
      "Epoch 71/80\n",
      "1/1 [==============================] - 0s 319ms/step - loss: 2.0205 - acc: 0.2222\n",
      "5/5 [==============================] - 2s 382ms/step - loss: 0.9932 - acc: 0.6170 - val_loss: 2.0205 - val_acc: 0.2222\n",
      "Epoch 72/80\n",
      "1/1 [==============================] - 0s 288ms/step - loss: 2.0091 - acc: 0.2222\n",
      "5/5 [==============================] - 2s 344ms/step - loss: 1.0369 - acc: 0.6170 - val_loss: 2.0091 - val_acc: 0.2222\n",
      "Epoch 73/80\n",
      "1/1 [==============================] - 0s 268ms/step - loss: 2.0283 - acc: 0.2222\n",
      "5/5 [==============================] - 2s 395ms/step - loss: 0.9730 - acc: 0.6800 - val_loss: 2.0283 - val_acc: 0.2222\n",
      "Epoch 74/80\n",
      "1/1 [==============================] - 0s 308ms/step - loss: 2.0205 - acc: 0.2222\n",
      "5/5 [==============================] - 2s 472ms/step - loss: 1.1072 - acc: 0.5745 - val_loss: 2.0205 - val_acc: 0.2222\n",
      "Epoch 75/80\n",
      "1/1 [==============================] - 0s 331ms/step - loss: 2.0490 - acc: 0.2222\n",
      "5/5 [==============================] - 2s 366ms/step - loss: 0.9026 - acc: 0.7021 - val_loss: 2.0490 - val_acc: 0.2222\n",
      "Epoch 76/80\n",
      "1/1 [==============================] - 0s 315ms/step - loss: 2.0614 - acc: 0.2222\n",
      "5/5 [==============================] - 2s 374ms/step - loss: 0.9481 - acc: 0.6596 - val_loss: 2.0614 - val_acc: 0.2222\n",
      "Epoch 77/80\n",
      "1/1 [==============================] - 0s 328ms/step - loss: 2.0755 - acc: 0.2222\n",
      "5/5 [==============================] - 2s 429ms/step - loss: 1.0106 - acc: 0.6809 - val_loss: 2.0755 - val_acc: 0.2222\n",
      "Epoch 78/80\n",
      "1/1 [==============================] - 0s 271ms/step - loss: 2.0909 - acc: 0.2222\n",
      "5/5 [==============================] - 2s 372ms/step - loss: 1.0246 - acc: 0.5957 - val_loss: 2.0909 - val_acc: 0.2222\n"
     ]
    },
    {
     "name": "stdout",
     "output_type": "stream",
     "text": [
      "Epoch 79/80\n",
      "1/1 [==============================] - 0s 379ms/step - loss: 1.9955 - acc: 0.2222\n",
      "5/5 [==============================] - 2s 407ms/step - loss: 0.9981 - acc: 0.6800 - val_loss: 1.9955 - val_acc: 0.2222\n",
      "Epoch 80/80\n",
      "1/1 [==============================] - 0s 348ms/step - loss: 2.0634 - acc: 0.2222\n",
      "5/5 [==============================] - 2s 471ms/step - loss: 0.8439 - acc: 0.7660 - val_loss: 2.0634 - val_acc: 0.2222\n"
     ]
    }
   ],
   "source": [
    "historyLeNet = modelLetNet.fit(x = trainDataset, epochs=EPOCHS, steps_per_epoch=(len(trainSources)//BACH_SIZE), initial_epoch=0,\n",
    "                         validation_data = valDataset, validation_steps= VALIDATION_STEP)"
   ]
  },
  {
   "cell_type": "code",
   "execution_count": 30,
   "metadata": {},
   "outputs": [
    {
     "data": {
      "image/png": "[encoded data removed]",
      "text/plain": [
       "<Figure size 432x288 with 2 Axes>"
      ]
     },
     "metadata": {
      "needs_background": "light"
     },
     "output_type": "display_data"
    }
   ],
   "source": [
    "drawResults(historyLeNet,EPOCHS, True)"
   ]
  },
  {
   "cell_type": "markdown",
   "metadata": {},
   "source": [
    "## AlexNet"
   ]
  },
  {
   "cell_type": "code",
   "execution_count": 10,
   "metadata": {},
   "outputs": [],
   "source": [
    "BACH_SIZE = 10\n",
    "NUM_CLASSES = 5\n",
    "VALIDATION_STEP = 1\n",
    "LEARNING_RATE = 0.0001\n",
    "EPOCHS = 80\n",
    "EPOCHS_ONE = 50"
   ]
  },
  {
   "cell_type": "code",
   "execution_count": 13,
   "metadata": {},
   "outputs": [],
   "source": [
    "modelAlexNet = AlexNetModel(NUM_CLASSES)\n",
    "modelAlexNet.compile(loss='sparse_categorical_crossentropy',\n",
    "            optimizer= tf.keras.optimizers.Adam(LEARNING_RATE),\n",
    "            metrics=['accuracy'])"
   ]
  },
  {
   "cell_type": "code",
   "execution_count": 7,
   "metadata": {},
   "outputs": [],
   "source": [
    "trainAlexData = makeDataset(trainSources, training = True,\n",
    "                           batch_size = BACH_SIZE, num_epochs=EPOCHS,\n",
    "                           num_parallel_calls = 2, pixels = 224)\n",
    "valAlexData = makeDataset(valSources, training = True,\n",
    "                           batch_size = BACH_SIZE, num_epochs=EPOCHS,\n",
    "                           num_parallel_calls = 2, pixels = 224)"
   ]
  },
  {
   "cell_type": "code",
   "execution_count": 34,
   "metadata": {},
   "outputs": [
    {
     "name": "stdout",
     "output_type": "stream",
     "text": [
      "Epoch 1/80\n",
      "1/1 [==============================] - 1s 759ms/step - loss: 1.8576 - acc: 0.2222\n",
      "5/5 [==============================] - 5s 1s/step - loss: 1.5146 - acc: 0.4800 - val_loss: 1.8576 - val_acc: 0.2222\n",
      "Epoch 2/80\n",
      "1/1 [==============================] - 0s 381ms/step - loss: 1.6718 - acc: 0.2222\n",
      "5/5 [==============================] - 3s 530ms/step - loss: 1.4676 - acc: 0.5319 - val_loss: 1.6718 - val_acc: 0.2222\n",
      "Epoch 3/80\n",
      "1/1 [==============================] - 0s 463ms/step - loss: 1.6848 - acc: 0.2222\n",
      "5/5 [==============================] - 2s 479ms/step - loss: 1.3580 - acc: 0.5745 - val_loss: 1.6848 - val_acc: 0.2222\n",
      "Epoch 4/80\n",
      "1/1 [==============================] - 0s 437ms/step - loss: 2.0059 - acc: 0.2222\n",
      "5/5 [==============================] - 3s 522ms/step - loss: 1.2953 - acc: 0.5532 - val_loss: 2.0059 - val_acc: 0.2222\n",
      "Epoch 5/80\n",
      "1/1 [==============================] - 0s 307ms/step - loss: 1.7237 - acc: 0.2222\n",
      "5/5 [==============================] - 2s 420ms/step - loss: 1.3831 - acc: 0.4894 - val_loss: 1.7237 - val_acc: 0.2222\n",
      "Epoch 6/80\n",
      "1/1 [==============================] - 0s 446ms/step - loss: 1.7221 - acc: 0.2222\n",
      "5/5 [==============================] - 3s 505ms/step - loss: 1.3217 - acc: 0.5532 - val_loss: 1.7221 - val_acc: 0.2222\n",
      "Epoch 7/80\n",
      "1/1 [==============================] - 0s 419ms/step - loss: 1.9318 - acc: 0.2222\n",
      "5/5 [==============================] - 2s 454ms/step - loss: 1.2569 - acc: 0.5600 - val_loss: 1.9318 - val_acc: 0.2222\n",
      "Epoch 8/80\n",
      "1/1 [==============================] - 0s 335ms/step - loss: 1.7513 - acc: 0.2222\n",
      "5/5 [==============================] - 2s 472ms/step - loss: 1.3375 - acc: 0.5319 - val_loss: 1.7513 - val_acc: 0.2222\n",
      "Epoch 9/80\n",
      "1/1 [==============================] - 0s 308ms/step - loss: 2.0242 - acc: 0.2222\n",
      "5/5 [==============================] - 3s 503ms/step - loss: 1.2565 - acc: 0.5532 - val_loss: 2.0242 - val_acc: 0.2222\n",
      "Epoch 10/80\n",
      "1/1 [==============================] - 0s 292ms/step - loss: 1.7579 - acc: 0.2222\n",
      "5/5 [==============================] - 2s 367ms/step - loss: 1.2177 - acc: 0.5957 - val_loss: 1.7579 - val_acc: 0.2222\n",
      "Epoch 11/80\n",
      "1/1 [==============================] - 0s 383ms/step - loss: 1.7752 - acc: 0.2222\n",
      "5/5 [==============================] - 3s 528ms/step - loss: 1.3304 - acc: 0.4894 - val_loss: 1.7752 - val_acc: 0.2222\n",
      "Epoch 12/80\n",
      "1/1 [==============================] - 0s 286ms/step - loss: 1.9307 - acc: 0.2222\n",
      "5/5 [==============================] - 2s 395ms/step - loss: 1.2171 - acc: 0.5319 - val_loss: 1.9307 - val_acc: 0.2222\n",
      "Epoch 13/80\n",
      "1/1 [==============================] - 0s 297ms/step - loss: 1.8771 - acc: 0.2222\n",
      "5/5 [==============================] - 2s 482ms/step - loss: 1.2208 - acc: 0.5400 - val_loss: 1.8771 - val_acc: 0.2222\n",
      "Epoch 14/80\n",
      "1/1 [==============================] - 0s 353ms/step - loss: 1.8798 - acc: 0.2222\n",
      "5/5 [==============================] - 2s 471ms/step - loss: 1.2483 - acc: 0.5532 - val_loss: 1.8798 - val_acc: 0.2222\n",
      "Epoch 15/80\n",
      "1/1 [==============================] - 0s 320ms/step - loss: 1.9363 - acc: 0.2222\n",
      "5/5 [==============================] - 2s 494ms/step - loss: 1.0949 - acc: 0.5745 - val_loss: 1.9363 - val_acc: 0.2222\n",
      "Epoch 16/80\n",
      "1/1 [==============================] - 0s 385ms/step - loss: 1.7803 - acc: 0.2222\n",
      "5/5 [==============================] - 2s 409ms/step - loss: 1.2623 - acc: 0.5319 - val_loss: 1.7803 - val_acc: 0.2222\n",
      "Epoch 17/80\n",
      "1/1 [==============================] - 0s 386ms/step - loss: 1.7281 - acc: 0.2222\n",
      "5/5 [==============================] - 2s 463ms/step - loss: 1.3053 - acc: 0.5319 - val_loss: 1.7281 - val_acc: 0.2222\n",
      "Epoch 18/80\n",
      "1/1 [==============================] - 0s 301ms/step - loss: 1.7099 - acc: 0.2222\n",
      "5/5 [==============================] - 2s 432ms/step - loss: 1.2949 - acc: 0.5319 - val_loss: 1.7099 - val_acc: 0.2222\n",
      "Epoch 19/80\n",
      "1/1 [==============================] - 0s 361ms/step - loss: 2.4348 - acc: 0.2222\n",
      "5/5 [==============================] - 2s 382ms/step - loss: 1.2100 - acc: 0.5800 - val_loss: 2.4348 - val_acc: 0.2222\n",
      "Epoch 20/80\n",
      "1/1 [==============================] - 0s 319ms/step - loss: 1.6223 - acc: 0.2222\n",
      "5/5 [==============================] - 3s 510ms/step - loss: 1.5119 - acc: 0.4894 - val_loss: 1.6223 - val_acc: 0.2222\n",
      "Epoch 21/80\n",
      "1/1 [==============================] - 0s 327ms/step - loss: 1.6418 - acc: 0.2222\n",
      "5/5 [==============================] - 2s 370ms/step - loss: 1.4774 - acc: 0.6170 - val_loss: 1.6418 - val_acc: 0.2222\n",
      "Epoch 22/80\n",
      "1/1 [==============================] - 0s 360ms/step - loss: 1.8914 - acc: 0.2222\n",
      "5/5 [==============================] - 2s 412ms/step - loss: 1.4167 - acc: 0.4894 - val_loss: 1.8914 - val_acc: 0.2222\n",
      "Epoch 23/80\n",
      "1/1 [==============================] - 0s 347ms/step - loss: 2.1030 - acc: 0.2222\n",
      "5/5 [==============================] - 2s 473ms/step - loss: 1.2487 - acc: 0.5532 - val_loss: 2.1030 - val_acc: 0.2222\n",
      "Epoch 24/80\n",
      "1/1 [==============================] - 0s 350ms/step - loss: 1.7508 - acc: 0.2222\n",
      "5/5 [==============================] - 2s 427ms/step - loss: 1.2827 - acc: 0.5319 - val_loss: 1.7508 - val_acc: 0.2222\n",
      "Epoch 25/80\n",
      "1/1 [==============================] - 0s 327ms/step - loss: 2.0489 - acc: 0.2222\n",
      "5/5 [==============================] - 2s 431ms/step - loss: 1.2199 - acc: 0.5400 - val_loss: 2.0489 - val_acc: 0.2222\n",
      "Epoch 26/80\n",
      "1/1 [==============================] - 0s 322ms/step - loss: 1.7518 - acc: 0.2222\n",
      "5/5 [==============================] - 2s 467ms/step - loss: 1.1503 - acc: 0.5532 - val_loss: 1.7518 - val_acc: 0.2222\n",
      "Epoch 27/80\n",
      "1/1 [==============================] - 0s 283ms/step - loss: 1.8130 - acc: 0.2222\n",
      "5/5 [==============================] - 2s 421ms/step - loss: 1.2464 - acc: 0.5106 - val_loss: 1.8130 - val_acc: 0.2222\n",
      "Epoch 28/80\n",
      "1/1 [==============================] - 0s 297ms/step - loss: 2.4457 - acc: 0.2222\n",
      "5/5 [==============================] - 2s 438ms/step - loss: 0.9371 - acc: 0.6383 - val_loss: 2.4457 - val_acc: 0.2222\n",
      "Epoch 29/80\n",
      "1/1 [==============================] - 0s 398ms/step - loss: 1.6328 - acc: 0.2222\n",
      "5/5 [==============================] - 2s 485ms/step - loss: 1.3327 - acc: 0.4894 - val_loss: 1.6328 - val_acc: 0.2222\n",
      "Epoch 30/80\n",
      "1/1 [==============================] - 0s 328ms/step - loss: 1.6991 - acc: 0.2222\n",
      "5/5 [==============================] - 2s 462ms/step - loss: 1.3263 - acc: 0.5319 - val_loss: 1.6991 - val_acc: 0.2222\n",
      "Epoch 31/80\n",
      "1/1 [==============================] - 0s 453ms/step - loss: 2.1006 - acc: 0.2222\n",
      "5/5 [==============================] - 3s 528ms/step - loss: 1.2011 - acc: 0.5400 - val_loss: 2.1006 - val_acc: 0.2222\n",
      "Epoch 32/80\n",
      "1/1 [==============================] - 1s 581ms/step - loss: 2.0794 - acc: 0.2222\n",
      "5/5 [==============================] - 4s 740ms/step - loss: 0.9851 - acc: 0.5957 - val_loss: 2.0794 - val_acc: 0.2222\n",
      "Epoch 33/80\n",
      "1/1 [==============================] - 1s 517ms/step - loss: 1.6908 - acc: 0.2222\n",
      "5/5 [==============================] - 3s 563ms/step - loss: 1.3053 - acc: 0.4894 - val_loss: 1.6908 - val_acc: 0.2222\n",
      "Epoch 34/80\n",
      "1/1 [==============================] - 1s 545ms/step - loss: 2.4906 - acc: 0.2222\n",
      "5/5 [==============================] - 4s 707ms/step - loss: 0.9505 - acc: 0.6596 - val_loss: 2.4906 - val_acc: 0.2222\n",
      "Epoch 35/80\n",
      "1/1 [==============================] - 1s 533ms/step - loss: 1.7327 - acc: 0.2222\n",
      "5/5 [==============================] - 3s 691ms/step - loss: 1.2419 - acc: 0.5106 - val_loss: 1.7327 - val_acc: 0.2222\n",
      "Epoch 36/80\n",
      "1/1 [==============================] - 1s 534ms/step - loss: 1.9582 - acc: 0.2222\n",
      "5/5 [==============================] - 3s 622ms/step - loss: 1.1078 - acc: 0.5957 - val_loss: 1.9582 - val_acc: 0.2222\n",
      "Epoch 37/80\n",
      "1/1 [==============================] - 0s 497ms/step - loss: 1.7545 - acc: 0.2222\n",
      "5/5 [==============================] - 3s 569ms/step - loss: 0.9845 - acc: 0.6200 - val_loss: 1.7545 - val_acc: 0.2222\n",
      "Epoch 38/80\n",
      "1/1 [==============================] - 0s 465ms/step - loss: 2.1191 - acc: 0.2222\n",
      "5/5 [==============================] - 3s 580ms/step - loss: 0.8991 - acc: 0.6809 - val_loss: 2.1191 - val_acc: 0.2222\n",
      "Epoch 39/80\n",
      "1/1 [==============================] - 1s 524ms/step - loss: 1.7634 - acc: 0.3333\n",
      "5/5 [==============================] - 3s 674ms/step - loss: 0.8980 - acc: 0.6809 - val_loss: 1.7634 - val_acc: 0.3333\n"
     ]
    },
    {
     "name": "stdout",
     "output_type": "stream",
     "text": [
      "Epoch 40/80\n",
      "1/1 [==============================] - 0s 375ms/step - loss: 2.6748 - acc: 0.3333\n",
      "5/5 [==============================] - 2s 493ms/step - loss: 0.8211 - acc: 0.6809 - val_loss: 2.6748 - val_acc: 0.3333\n",
      "Epoch 41/80\n",
      "1/1 [==============================] - 0s 342ms/step - loss: 1.7384 - acc: 0.2222\n",
      "5/5 [==============================] - 2s 405ms/step - loss: 1.0557 - acc: 0.5532 - val_loss: 1.7384 - val_acc: 0.2222\n",
      "Epoch 42/80\n",
      "1/1 [==============================] - 0s 363ms/step - loss: 2.3150 - acc: 0.3333\n",
      "5/5 [==============================] - 2s 494ms/step - loss: 0.8130 - acc: 0.6809 - val_loss: 2.3150 - val_acc: 0.3333\n",
      "Epoch 43/80\n",
      "1/1 [==============================] - 0s 342ms/step - loss: 1.6378 - acc: 0.4444\n",
      "5/5 [==============================] - 2s 459ms/step - loss: 0.8832 - acc: 0.6800 - val_loss: 1.6378 - val_acc: 0.4444\n",
      "Epoch 44/80\n",
      "1/1 [==============================] - 0s 374ms/step - loss: 2.2189 - acc: 0.3333\n",
      "5/5 [==============================] - 3s 529ms/step - loss: 0.6783 - acc: 0.7447 - val_loss: 2.2189 - val_acc: 0.3333\n",
      "Epoch 45/80\n",
      "1/1 [==============================] - 0s 325ms/step - loss: 1.8310 - acc: 0.4444\n",
      "5/5 [==============================] - 2s 419ms/step - loss: 0.8444 - acc: 0.6596 - val_loss: 1.8310 - val_acc: 0.4444\n",
      "Epoch 46/80\n",
      "1/1 [==============================] - 0s 331ms/step - loss: 2.4009 - acc: 0.2222\n",
      "5/5 [==============================] - 2s 438ms/step - loss: 0.6570 - acc: 0.7021 - val_loss: 2.4009 - val_acc: 0.2222\n",
      "Epoch 47/80\n",
      "1/1 [==============================] - 0s 499ms/step - loss: 1.6068 - acc: 0.3333\n",
      "5/5 [==============================] - 3s 505ms/step - loss: 0.9866 - acc: 0.6383 - val_loss: 1.6068 - val_acc: 0.3333\n",
      "Epoch 48/80\n",
      "1/1 [==============================] - 0s 370ms/step - loss: 2.1674 - acc: 0.3333\n",
      "5/5 [==============================] - 2s 467ms/step - loss: 0.9354 - acc: 0.6596 - val_loss: 2.1674 - val_acc: 0.3333\n",
      "Epoch 49/80\n",
      "1/1 [==============================] - 0s 352ms/step - loss: 1.7751 - acc: 0.3333\n",
      "5/5 [==============================] - 2s 428ms/step - loss: 0.7358 - acc: 0.7000 - val_loss: 1.7751 - val_acc: 0.3333\n",
      "Epoch 50/80\n",
      "1/1 [==============================] - 0s 296ms/step - loss: 1.8593 - acc: 0.4444\n",
      "5/5 [==============================] - 3s 510ms/step - loss: 0.6588 - acc: 0.7234 - val_loss: 1.8593 - val_acc: 0.4444\n",
      "Epoch 51/80\n",
      "1/1 [==============================] - 0s 338ms/step - loss: 1.7964 - acc: 0.4444\n",
      "5/5 [==============================] - 2s 400ms/step - loss: 0.6313 - acc: 0.7021 - val_loss: 1.7964 - val_acc: 0.4444\n",
      "Epoch 52/80\n",
      "1/1 [==============================] - 0s 330ms/step - loss: 2.3091 - acc: 0.4444\n",
      "5/5 [==============================] - 2s 396ms/step - loss: 0.5623 - acc: 0.7872 - val_loss: 2.3091 - val_acc: 0.4444\n",
      "Epoch 53/80\n",
      "1/1 [==============================] - 0s 345ms/step - loss: 2.1227 - acc: 0.2222\n",
      "5/5 [==============================] - 2s 384ms/step - loss: 0.5583 - acc: 0.7660 - val_loss: 2.1227 - val_acc: 0.2222\n",
      "Epoch 54/80\n",
      "1/1 [==============================] - 0s 358ms/step - loss: 2.0724 - acc: 0.2222\n",
      "5/5 [==============================] - 2s 448ms/step - loss: 0.6645 - acc: 0.7234 - val_loss: 2.0724 - val_acc: 0.2222\n",
      "Epoch 55/80\n",
      "1/1 [==============================] - 0s 248ms/step - loss: 2.2980 - acc: 0.3333\n",
      "5/5 [==============================] - 2s 362ms/step - loss: 0.4973 - acc: 0.7600 - val_loss: 2.2980 - val_acc: 0.3333\n",
      "Epoch 56/80\n",
      "1/1 [==============================] - 0s 291ms/step - loss: 2.0096 - acc: 0.3333\n",
      "5/5 [==============================] - 2s 418ms/step - loss: 0.4935 - acc: 0.8298 - val_loss: 2.0096 - val_acc: 0.3333\n",
      "Epoch 57/80\n",
      "1/1 [==============================] - 0s 308ms/step - loss: 2.4656 - acc: 0.3333\n",
      "5/5 [==============================] - 2s 421ms/step - loss: 0.4738 - acc: 0.8298 - val_loss: 2.4656 - val_acc: 0.3333\n",
      "Epoch 58/80\n",
      "1/1 [==============================] - 0s 337ms/step - loss: 2.8022 - acc: 0.3333\n",
      "5/5 [==============================] - 2s 385ms/step - loss: 0.5135 - acc: 0.8298 - val_loss: 2.8022 - val_acc: 0.3333\n",
      "Epoch 59/80\n",
      "1/1 [==============================] - 0s 315ms/step - loss: 2.1591 - acc: 0.3333\n",
      "5/5 [==============================] - 2s 415ms/step - loss: 0.5529 - acc: 0.7872 - val_loss: 2.1591 - val_acc: 0.3333\n",
      "Epoch 60/80\n",
      "1/1 [==============================] - 0s 311ms/step - loss: 2.7071 - acc: 0.2222\n",
      "5/5 [==============================] - 2s 396ms/step - loss: 0.5382 - acc: 0.8085 - val_loss: 2.7071 - val_acc: 0.2222\n",
      "Epoch 61/80\n",
      "1/1 [==============================] - 0s 322ms/step - loss: 1.8980 - acc: 0.2222\n",
      "5/5 [==============================] - 2s 401ms/step - loss: 0.5798 - acc: 0.7800 - val_loss: 1.8980 - val_acc: 0.2222\n",
      "Epoch 62/80\n",
      "1/1 [==============================] - 0s 331ms/step - loss: 2.1142 - acc: 0.3333\n",
      "5/5 [==============================] - 2s 480ms/step - loss: 0.5144 - acc: 0.8085 - val_loss: 2.1142 - val_acc: 0.3333\n",
      "Epoch 63/80\n",
      "1/1 [==============================] - 0s 321ms/step - loss: 2.6023 - acc: 0.2222\n",
      "5/5 [==============================] - 2s 421ms/step - loss: 0.3506 - acc: 0.8936 - val_loss: 2.6023 - val_acc: 0.2222\n",
      "Epoch 64/80\n",
      "1/1 [==============================] - 0s 361ms/step - loss: 2.0949 - acc: 0.2222\n",
      "5/5 [==============================] - 2s 409ms/step - loss: 0.3303 - acc: 0.8936 - val_loss: 2.0949 - val_acc: 0.2222\n",
      "Epoch 65/80\n",
      "1/1 [==============================] - 0s 302ms/step - loss: 4.8847 - acc: 0.1111\n",
      "5/5 [==============================] - 2s 353ms/step - loss: 0.4535 - acc: 0.7872 - val_loss: 4.8847 - val_acc: 0.1111\n",
      "Epoch 66/80\n",
      "1/1 [==============================] - 0s 291ms/step - loss: 2.1884 - acc: 0.2222\n",
      "5/5 [==============================] - 2s 380ms/step - loss: 0.5193 - acc: 0.7872 - val_loss: 2.1884 - val_acc: 0.2222\n",
      "Epoch 67/80\n",
      "1/1 [==============================] - 0s 325ms/step - loss: 2.8706 - acc: 0.4444\n",
      "5/5 [==============================] - 2s 396ms/step - loss: 0.7855 - acc: 0.7800 - val_loss: 2.8706 - val_acc: 0.4444\n",
      "Epoch 68/80\n",
      "1/1 [==============================] - 0s 291ms/step - loss: 1.7257 - acc: 0.4444\n",
      "5/5 [==============================] - 2s 477ms/step - loss: 0.7246 - acc: 0.7660 - val_loss: 1.7257 - val_acc: 0.4444\n",
      "Epoch 69/80\n",
      "1/1 [==============================] - 0s 297ms/step - loss: 2.8064 - acc: 0.4444\n",
      "5/5 [==============================] - 2s 430ms/step - loss: 0.5489 - acc: 0.7872 - val_loss: 2.8064 - val_acc: 0.4444\n",
      "Epoch 70/80\n",
      "1/1 [==============================] - 0s 308ms/step - loss: 2.0002 - acc: 0.4444\n",
      "5/5 [==============================] - 2s 340ms/step - loss: 0.5758 - acc: 0.7447 - val_loss: 2.0002 - val_acc: 0.4444\n",
      "Epoch 71/80\n",
      "1/1 [==============================] - 0s 280ms/step - loss: 2.1161 - acc: 0.3333\n",
      "5/5 [==============================] - 2s 381ms/step - loss: 0.4611 - acc: 0.8511 - val_loss: 2.1161 - val_acc: 0.3333\n",
      "Epoch 72/80\n",
      "1/1 [==============================] - 0s 291ms/step - loss: 2.8173 - acc: 0.2222\n",
      "5/5 [==============================] - 2s 405ms/step - loss: 0.4162 - acc: 0.8723 - val_loss: 2.8173 - val_acc: 0.2222\n",
      "Epoch 73/80\n",
      "1/1 [==============================] - 0s 270ms/step - loss: 2.7232 - acc: 0.2222\n",
      "5/5 [==============================] - 2s 414ms/step - loss: 0.3541 - acc: 0.8400 - val_loss: 2.7232 - val_acc: 0.2222\n",
      "Epoch 74/80\n",
      "1/1 [==============================] - 0s 291ms/step - loss: 2.1300 - acc: 0.2222\n",
      "5/5 [==============================] - 2s 439ms/step - loss: 0.3711 - acc: 0.8511 - val_loss: 2.1300 - val_acc: 0.2222\n",
      "Epoch 75/80\n",
      "1/1 [==============================] - 0s 327ms/step - loss: 2.8825 - acc: 0.2222\n",
      "5/5 [==============================] - 2s 448ms/step - loss: 0.3976 - acc: 0.8298 - val_loss: 2.8825 - val_acc: 0.2222\n",
      "Epoch 76/80\n",
      "1/1 [==============================] - 0s 338ms/step - loss: 3.0065 - acc: 0.2222\n",
      "5/5 [==============================] - 2s 408ms/step - loss: 0.2453 - acc: 0.9149 - val_loss: 3.0065 - val_acc: 0.2222\n",
      "Epoch 77/80\n",
      "1/1 [==============================] - 0s 421ms/step - loss: 3.3173 - acc: 0.2222\n",
      "5/5 [==============================] - 2s 473ms/step - loss: 0.2727 - acc: 0.8936 - val_loss: 3.3173 - val_acc: 0.2222\n",
      "Epoch 78/80\n",
      "1/1 [==============================] - 0s 271ms/step - loss: 4.0565 - acc: 0.2222\n",
      "5/5 [==============================] - 2s 433ms/step - loss: 0.1941 - acc: 0.9362 - val_loss: 4.0565 - val_acc: 0.2222\n"
     ]
    },
    {
     "name": "stdout",
     "output_type": "stream",
     "text": [
      "Epoch 79/80\n",
      "1/1 [==============================] - 0s 278ms/step - loss: 2.9667 - acc: 0.3333\n",
      "5/5 [==============================] - 2s 442ms/step - loss: 0.2462 - acc: 0.9000 - val_loss: 2.9667 - val_acc: 0.3333\n",
      "Epoch 80/80\n",
      "1/1 [==============================] - 0s 325ms/step - loss: 4.1299 - acc: 0.2222\n",
      "5/5 [==============================] - 2s 492ms/step - loss: 0.1691 - acc: 0.9362 - val_loss: 4.1299 - val_acc: 0.2222\n"
     ]
    }
   ],
   "source": [
    "historyAlexNet = modelAlexNet.fit(x = trainAlexData, epochs=EPOCHS, steps_per_epoch=(len(trainSources)//BACH_SIZE), initial_epoch=0,\n",
    "                         validation_data = valAlexData, validation_steps= VALIDATION_STEP)"
   ]
  },
  {
   "cell_type": "code",
   "execution_count": 36,
   "metadata": {},
   "outputs": [
    {
     "data": {
      "image/png": "[encoded data removed]",
      "text/plain": [
       "<Figure size 432x288 with 2 Axes>"
      ]
     },
     "metadata": {
      "needs_background": "light"
     },
     "output_type": "display_data"
    }
   ],
   "source": [
    "drawResults(historyAlexNet, EPOCHS,True)"
   ]
  },
  {
   "cell_type": "markdown",
   "metadata": {},
   "source": [
    "## VGG"
   ]
  },
  {
   "cell_type": "code",
   "execution_count": 6,
   "metadata": {},
   "outputs": [],
   "source": [
    "BACH_SIZE = 10\n",
    "NUM_CLASSES = 5\n",
    "VALIDATION_STEP = 1\n",
    "LEARNING_RATE = 0.0001\n",
    "EPOCHS = 80\n",
    "EPOCHS_ONE = 50"
   ]
  },
  {
   "cell_type": "code",
   "execution_count": 16,
   "metadata": {},
   "outputs": [
    {
     "ename": "ValueError",
     "evalue": "Incompatible type conversion requested to type 'int32' for variable of type 'float32'",
     "output_type": "error",
     "traceback": [
      "\u001b[1;31m---------------------------------------------------------------------------\u001b[0m",
      "\u001b[1;31m_FallbackException\u001b[0m                        Traceback (most recent call last)",
      "\u001b[1;32m~\\Anaconda3\\envs\\pyPlate\\lib\\site-packages\\tensorflow\\python\\ops\\gen_nn_ops.py\u001b[0m in \u001b[0;36mconv2d\u001b[1;34m(input, filter, strides, padding, use_cudnn_on_gpu, data_format, dilations, name)\u001b[0m\n\u001b[0;32m    986\u001b[0m         \u001b[1;34m\"use_cudnn_on_gpu\"\u001b[0m\u001b[1;33m,\u001b[0m \u001b[0muse_cudnn_on_gpu\u001b[0m\u001b[1;33m,\u001b[0m \u001b[1;34m\"padding\"\u001b[0m\u001b[1;33m,\u001b[0m \u001b[0mpadding\u001b[0m\u001b[1;33m,\u001b[0m\u001b[1;33m\u001b[0m\u001b[1;33m\u001b[0m\u001b[0m\n\u001b[1;32m--> 987\u001b[1;33m         \"data_format\", data_format, \"dilations\", dilations)\n\u001b[0m\u001b[0;32m    988\u001b[0m       \u001b[1;32mreturn\u001b[0m \u001b[0m_result\u001b[0m\u001b[1;33m\u001b[0m\u001b[1;33m\u001b[0m\u001b[0m\n",
      "\u001b[1;31m_FallbackException\u001b[0m: Expecting int64_t value for attr strides, got numpy.int32",
      "\nDuring handling of the above exception, another exception occurred:\n",
      "\u001b[1;31mValueError\u001b[0m                                Traceback (most recent call last)",
      "\u001b[1;32m<ipython-input-16-b98bd154b154>\u001b[0m in \u001b[0;36m<module>\u001b[1;34m\u001b[0m\n\u001b[1;32m----> 1\u001b[1;33m \u001b[0mVGGModel\u001b[0m \u001b[1;33m=\u001b[0m \u001b[0mVGGModel\u001b[0m\u001b[1;33m(\u001b[0m\u001b[0mNUM_CLASSES\u001b[0m\u001b[1;33m)\u001b[0m\u001b[1;33m\u001b[0m\u001b[1;33m\u001b[0m\u001b[0m\n\u001b[0m\u001b[0;32m      2\u001b[0m VGGModel.compile(loss='sparse_categorical_crossentropy',\n\u001b[0;32m      3\u001b[0m             \u001b[0moptimizer\u001b[0m\u001b[1;33m=\u001b[0m \u001b[0mtf\u001b[0m\u001b[1;33m.\u001b[0m\u001b[0mkeras\u001b[0m\u001b[1;33m.\u001b[0m\u001b[0moptimizers\u001b[0m\u001b[1;33m.\u001b[0m\u001b[0mAdam\u001b[0m\u001b[1;33m(\u001b[0m\u001b[0mLEARNING_RATE\u001b[0m\u001b[1;33m)\u001b[0m\u001b[1;33m,\u001b[0m\u001b[1;33m\u001b[0m\u001b[1;33m\u001b[0m\u001b[0m\n\u001b[0;32m      4\u001b[0m             metrics=['accuracy'])\n",
      "\u001b[1;32m~\\Anaconda3\\envs\\pyPlate\\lib\\site-packages\\tensorflow\\python\\keras\\engine\\base_layer.py\u001b[0m in \u001b[0;36m__call__\u001b[1;34m(self, inputs, *args, **kwargs)\u001b[0m\n\u001b[0;32m    590\u001b[0m       \u001b[1;32melse\u001b[0m\u001b[1;33m:\u001b[0m\u001b[1;33m\u001b[0m\u001b[1;33m\u001b[0m\u001b[0m\n\u001b[0;32m    591\u001b[0m         \u001b[1;31m# Eager execution on data tensors.\u001b[0m\u001b[1;33m\u001b[0m\u001b[1;33m\u001b[0m\u001b[1;33m\u001b[0m\u001b[0m\n\u001b[1;32m--> 592\u001b[1;33m         \u001b[0moutputs\u001b[0m \u001b[1;33m=\u001b[0m \u001b[0mself\u001b[0m\u001b[1;33m.\u001b[0m\u001b[0mcall\u001b[0m\u001b[1;33m(\u001b[0m\u001b[0minputs\u001b[0m\u001b[1;33m,\u001b[0m \u001b[1;33m*\u001b[0m\u001b[0margs\u001b[0m\u001b[1;33m,\u001b[0m \u001b[1;33m**\u001b[0m\u001b[0mkwargs\u001b[0m\u001b[1;33m)\u001b[0m\u001b[1;33m\u001b[0m\u001b[1;33m\u001b[0m\u001b[0m\n\u001b[0m\u001b[0;32m    593\u001b[0m         \u001b[0mself\u001b[0m\u001b[1;33m.\u001b[0m\u001b[0m_handle_activity_regularization\u001b[0m\u001b[1;33m(\u001b[0m\u001b[0minputs\u001b[0m\u001b[1;33m,\u001b[0m \u001b[0moutputs\u001b[0m\u001b[1;33m)\u001b[0m\u001b[1;33m\u001b[0m\u001b[1;33m\u001b[0m\u001b[0m\n\u001b[0;32m    594\u001b[0m         \u001b[1;32mreturn\u001b[0m \u001b[0moutputs\u001b[0m\u001b[1;33m\u001b[0m\u001b[1;33m\u001b[0m\u001b[0m\n",
      "\u001b[1;32m~\\Anaconda3\\envs\\pyPlate\\lib\\site-packages\\tensorflow\\python\\keras\\engine\\sequential.py\u001b[0m in \u001b[0;36mcall\u001b[1;34m(self, inputs, training, mask)\u001b[0m\n\u001b[0;32m    228\u001b[0m   \u001b[1;32mdef\u001b[0m \u001b[0mcall\u001b[0m\u001b[1;33m(\u001b[0m\u001b[0mself\u001b[0m\u001b[1;33m,\u001b[0m \u001b[0minputs\u001b[0m\u001b[1;33m,\u001b[0m \u001b[0mtraining\u001b[0m\u001b[1;33m=\u001b[0m\u001b[1;32mNone\u001b[0m\u001b[1;33m,\u001b[0m \u001b[0mmask\u001b[0m\u001b[1;33m=\u001b[0m\u001b[1;32mNone\u001b[0m\u001b[1;33m)\u001b[0m\u001b[1;33m:\u001b[0m\u001b[1;33m\u001b[0m\u001b[1;33m\u001b[0m\u001b[0m\n\u001b[0;32m    229\u001b[0m     \u001b[1;32mif\u001b[0m \u001b[0mself\u001b[0m\u001b[1;33m.\u001b[0m\u001b[0m_is_graph_network\u001b[0m\u001b[1;33m:\u001b[0m\u001b[1;33m\u001b[0m\u001b[1;33m\u001b[0m\u001b[0m\n\u001b[1;32m--> 230\u001b[1;33m       \u001b[1;32mreturn\u001b[0m \u001b[0msuper\u001b[0m\u001b[1;33m(\u001b[0m\u001b[0mSequential\u001b[0m\u001b[1;33m,\u001b[0m \u001b[0mself\u001b[0m\u001b[1;33m)\u001b[0m\u001b[1;33m.\u001b[0m\u001b[0mcall\u001b[0m\u001b[1;33m(\u001b[0m\u001b[0minputs\u001b[0m\u001b[1;33m,\u001b[0m \u001b[0mtraining\u001b[0m\u001b[1;33m=\u001b[0m\u001b[0mtraining\u001b[0m\u001b[1;33m,\u001b[0m \u001b[0mmask\u001b[0m\u001b[1;33m=\u001b[0m\u001b[0mmask\u001b[0m\u001b[1;33m)\u001b[0m\u001b[1;33m\u001b[0m\u001b[1;33m\u001b[0m\u001b[0m\n\u001b[0m\u001b[0;32m    231\u001b[0m \u001b[1;33m\u001b[0m\u001b[0m\n\u001b[0;32m    232\u001b[0m     outputs, _ = self._call_and_compute_mask(\n",
      "\u001b[1;32m~\\Anaconda3\\envs\\pyPlate\\lib\\site-packages\\tensorflow\\python\\keras\\engine\\network.py\u001b[0m in \u001b[0;36mcall\u001b[1;34m(self, inputs, training, mask)\u001b[0m\n\u001b[0;32m    813\u001b[0m     outputs, _ = self._run_internal_graph(inputs,\n\u001b[0;32m    814\u001b[0m                                           \u001b[0mtraining\u001b[0m\u001b[1;33m=\u001b[0m\u001b[0mtraining\u001b[0m\u001b[1;33m,\u001b[0m\u001b[1;33m\u001b[0m\u001b[1;33m\u001b[0m\u001b[0m\n\u001b[1;32m--> 815\u001b[1;33m                                           mask=masks)\n\u001b[0m\u001b[0;32m    816\u001b[0m     \u001b[1;32mreturn\u001b[0m \u001b[0moutputs\u001b[0m\u001b[1;33m\u001b[0m\u001b[1;33m\u001b[0m\u001b[0m\n\u001b[0;32m    817\u001b[0m \u001b[1;33m\u001b[0m\u001b[0m\n",
      "\u001b[1;32m~\\Anaconda3\\envs\\pyPlate\\lib\\site-packages\\tensorflow\\python\\keras\\engine\\network.py\u001b[0m in \u001b[0;36m_run_internal_graph\u001b[1;34m(self, inputs, training, mask)\u001b[0m\n\u001b[0;32m    998\u001b[0m               \u001b[1;32melse\u001b[0m\u001b[1;33m:\u001b[0m\u001b[1;33m\u001b[0m\u001b[1;33m\u001b[0m\u001b[0m\n\u001b[0;32m    999\u001b[0m                 \u001b[1;32mif\u001b[0m \u001b[0mcontext\u001b[0m\u001b[1;33m.\u001b[0m\u001b[0mexecuting_eagerly\u001b[0m\u001b[1;33m(\u001b[0m\u001b[1;33m)\u001b[0m\u001b[1;33m:\u001b[0m\u001b[1;33m\u001b[0m\u001b[1;33m\u001b[0m\u001b[0m\n\u001b[1;32m-> 1000\u001b[1;33m                   \u001b[0moutput_tensors\u001b[0m \u001b[1;33m=\u001b[0m \u001b[0mlayer\u001b[0m\u001b[1;33m(\u001b[0m\u001b[0mcomputed_tensor\u001b[0m\u001b[1;33m,\u001b[0m \u001b[1;33m**\u001b[0m\u001b[0mkwargs\u001b[0m\u001b[1;33m)\u001b[0m\u001b[1;33m\u001b[0m\u001b[1;33m\u001b[0m\u001b[0m\n\u001b[0m\u001b[0;32m   1001\u001b[0m                 \u001b[1;32melse\u001b[0m\u001b[1;33m:\u001b[0m\u001b[1;33m\u001b[0m\u001b[1;33m\u001b[0m\u001b[0m\n\u001b[0;32m   1002\u001b[0m                   \u001b[0moutput_tensors\u001b[0m \u001b[1;33m=\u001b[0m \u001b[0mlayer\u001b[0m\u001b[1;33m.\u001b[0m\u001b[0mcall\u001b[0m\u001b[1;33m(\u001b[0m\u001b[0mcomputed_tensor\u001b[0m\u001b[1;33m,\u001b[0m \u001b[1;33m**\u001b[0m\u001b[0mkwargs\u001b[0m\u001b[1;33m)\u001b[0m\u001b[1;33m\u001b[0m\u001b[1;33m\u001b[0m\u001b[0m\n",
      "\u001b[1;32m~\\Anaconda3\\envs\\pyPlate\\lib\\site-packages\\tensorflow\\python\\keras\\engine\\base_layer.py\u001b[0m in \u001b[0;36m__call__\u001b[1;34m(self, inputs, *args, **kwargs)\u001b[0m\n\u001b[0;32m    590\u001b[0m       \u001b[1;32melse\u001b[0m\u001b[1;33m:\u001b[0m\u001b[1;33m\u001b[0m\u001b[1;33m\u001b[0m\u001b[0m\n\u001b[0;32m    591\u001b[0m         \u001b[1;31m# Eager execution on data tensors.\u001b[0m\u001b[1;33m\u001b[0m\u001b[1;33m\u001b[0m\u001b[1;33m\u001b[0m\u001b[0m\n\u001b[1;32m--> 592\u001b[1;33m         \u001b[0moutputs\u001b[0m \u001b[1;33m=\u001b[0m \u001b[0mself\u001b[0m\u001b[1;33m.\u001b[0m\u001b[0mcall\u001b[0m\u001b[1;33m(\u001b[0m\u001b[0minputs\u001b[0m\u001b[1;33m,\u001b[0m \u001b[1;33m*\u001b[0m\u001b[0margs\u001b[0m\u001b[1;33m,\u001b[0m \u001b[1;33m**\u001b[0m\u001b[0mkwargs\u001b[0m\u001b[1;33m)\u001b[0m\u001b[1;33m\u001b[0m\u001b[1;33m\u001b[0m\u001b[0m\n\u001b[0m\u001b[0;32m    593\u001b[0m         \u001b[0mself\u001b[0m\u001b[1;33m.\u001b[0m\u001b[0m_handle_activity_regularization\u001b[0m\u001b[1;33m(\u001b[0m\u001b[0minputs\u001b[0m\u001b[1;33m,\u001b[0m \u001b[0moutputs\u001b[0m\u001b[1;33m)\u001b[0m\u001b[1;33m\u001b[0m\u001b[1;33m\u001b[0m\u001b[0m\n\u001b[0;32m    594\u001b[0m         \u001b[1;32mreturn\u001b[0m \u001b[0moutputs\u001b[0m\u001b[1;33m\u001b[0m\u001b[1;33m\u001b[0m\u001b[0m\n",
      "\u001b[1;32m~\\Anaconda3\\envs\\pyPlate\\lib\\site-packages\\tensorflow\\python\\keras\\layers\\convolutional.py\u001b[0m in \u001b[0;36mcall\u001b[1;34m(self, inputs)\u001b[0m\n\u001b[0;32m    192\u001b[0m \u001b[1;33m\u001b[0m\u001b[0m\n\u001b[0;32m    193\u001b[0m   \u001b[1;32mdef\u001b[0m \u001b[0mcall\u001b[0m\u001b[1;33m(\u001b[0m\u001b[0mself\u001b[0m\u001b[1;33m,\u001b[0m \u001b[0minputs\u001b[0m\u001b[1;33m)\u001b[0m\u001b[1;33m:\u001b[0m\u001b[1;33m\u001b[0m\u001b[1;33m\u001b[0m\u001b[0m\n\u001b[1;32m--> 194\u001b[1;33m     \u001b[0moutputs\u001b[0m \u001b[1;33m=\u001b[0m \u001b[0mself\u001b[0m\u001b[1;33m.\u001b[0m\u001b[0m_convolution_op\u001b[0m\u001b[1;33m(\u001b[0m\u001b[0minputs\u001b[0m\u001b[1;33m,\u001b[0m \u001b[0mself\u001b[0m\u001b[1;33m.\u001b[0m\u001b[0mkernel\u001b[0m\u001b[1;33m)\u001b[0m\u001b[1;33m\u001b[0m\u001b[1;33m\u001b[0m\u001b[0m\n\u001b[0m\u001b[0;32m    195\u001b[0m \u001b[1;33m\u001b[0m\u001b[0m\n\u001b[0;32m    196\u001b[0m     \u001b[1;32mif\u001b[0m \u001b[0mself\u001b[0m\u001b[1;33m.\u001b[0m\u001b[0muse_bias\u001b[0m\u001b[1;33m:\u001b[0m\u001b[1;33m\u001b[0m\u001b[1;33m\u001b[0m\u001b[0m\n",
      "\u001b[1;32m~\\Anaconda3\\envs\\pyPlate\\lib\\site-packages\\tensorflow\\python\\ops\\nn_ops.py\u001b[0m in \u001b[0;36m__call__\u001b[1;34m(self, inp, filter)\u001b[0m\n\u001b[0;32m    964\u001b[0m \u001b[1;33m\u001b[0m\u001b[0m\n\u001b[0;32m    965\u001b[0m   \u001b[1;32mdef\u001b[0m \u001b[0m__call__\u001b[0m\u001b[1;33m(\u001b[0m\u001b[0mself\u001b[0m\u001b[1;33m,\u001b[0m \u001b[0minp\u001b[0m\u001b[1;33m,\u001b[0m \u001b[0mfilter\u001b[0m\u001b[1;33m)\u001b[0m\u001b[1;33m:\u001b[0m  \u001b[1;31m# pylint: disable=redefined-builtin\u001b[0m\u001b[1;33m\u001b[0m\u001b[1;33m\u001b[0m\u001b[0m\n\u001b[1;32m--> 966\u001b[1;33m     \u001b[1;32mreturn\u001b[0m \u001b[0mself\u001b[0m\u001b[1;33m.\u001b[0m\u001b[0mconv_op\u001b[0m\u001b[1;33m(\u001b[0m\u001b[0minp\u001b[0m\u001b[1;33m,\u001b[0m \u001b[0mfilter\u001b[0m\u001b[1;33m)\u001b[0m\u001b[1;33m\u001b[0m\u001b[1;33m\u001b[0m\u001b[0m\n\u001b[0m\u001b[0;32m    967\u001b[0m \u001b[1;33m\u001b[0m\u001b[0m\n\u001b[0;32m    968\u001b[0m \u001b[1;33m\u001b[0m\u001b[0m\n",
      "\u001b[1;32m~\\Anaconda3\\envs\\pyPlate\\lib\\site-packages\\tensorflow\\python\\ops\\nn_ops.py\u001b[0m in \u001b[0;36m__call__\u001b[1;34m(self, inp, filter)\u001b[0m\n\u001b[0;32m    589\u001b[0m \u001b[1;33m\u001b[0m\u001b[0m\n\u001b[0;32m    590\u001b[0m   \u001b[1;32mdef\u001b[0m \u001b[0m__call__\u001b[0m\u001b[1;33m(\u001b[0m\u001b[0mself\u001b[0m\u001b[1;33m,\u001b[0m \u001b[0minp\u001b[0m\u001b[1;33m,\u001b[0m \u001b[0mfilter\u001b[0m\u001b[1;33m)\u001b[0m\u001b[1;33m:\u001b[0m  \u001b[1;31m# pylint: disable=redefined-builtin\u001b[0m\u001b[1;33m\u001b[0m\u001b[1;33m\u001b[0m\u001b[0m\n\u001b[1;32m--> 591\u001b[1;33m     \u001b[1;32mreturn\u001b[0m \u001b[0mself\u001b[0m\u001b[1;33m.\u001b[0m\u001b[0mcall\u001b[0m\u001b[1;33m(\u001b[0m\u001b[0minp\u001b[0m\u001b[1;33m,\u001b[0m \u001b[0mfilter\u001b[0m\u001b[1;33m)\u001b[0m\u001b[1;33m\u001b[0m\u001b[1;33m\u001b[0m\u001b[0m\n\u001b[0m\u001b[0;32m    592\u001b[0m \u001b[1;33m\u001b[0m\u001b[0m\n\u001b[0;32m    593\u001b[0m \u001b[1;33m\u001b[0m\u001b[0m\n",
      "\u001b[1;32m~\\Anaconda3\\envs\\pyPlate\\lib\\site-packages\\tensorflow\\python\\ops\\nn_ops.py\u001b[0m in \u001b[0;36m__call__\u001b[1;34m(self, inp, filter)\u001b[0m\n\u001b[0;32m    206\u001b[0m         \u001b[0mpadding\u001b[0m\u001b[1;33m=\u001b[0m\u001b[0mself\u001b[0m\u001b[1;33m.\u001b[0m\u001b[0mpadding\u001b[0m\u001b[1;33m,\u001b[0m\u001b[1;33m\u001b[0m\u001b[1;33m\u001b[0m\u001b[0m\n\u001b[0;32m    207\u001b[0m         \u001b[0mdata_format\u001b[0m\u001b[1;33m=\u001b[0m\u001b[0mself\u001b[0m\u001b[1;33m.\u001b[0m\u001b[0mdata_format\u001b[0m\u001b[1;33m,\u001b[0m\u001b[1;33m\u001b[0m\u001b[1;33m\u001b[0m\u001b[0m\n\u001b[1;32m--> 208\u001b[1;33m         name=self.name)\n\u001b[0m\u001b[0;32m    209\u001b[0m \u001b[1;33m\u001b[0m\u001b[0m\n\u001b[0;32m    210\u001b[0m \u001b[1;33m\u001b[0m\u001b[0m\n",
      "\u001b[1;32m~\\Anaconda3\\envs\\pyPlate\\lib\\site-packages\\tensorflow\\python\\ops\\gen_nn_ops.py\u001b[0m in \u001b[0;36mconv2d\u001b[1;34m(input, filter, strides, padding, use_cudnn_on_gpu, data_format, dilations, name)\u001b[0m\n\u001b[0;32m    992\u001b[0m             \u001b[0minput\u001b[0m\u001b[1;33m,\u001b[0m \u001b[0mfilter\u001b[0m\u001b[1;33m,\u001b[0m \u001b[0mstrides\u001b[0m\u001b[1;33m=\u001b[0m\u001b[0mstrides\u001b[0m\u001b[1;33m,\u001b[0m \u001b[0muse_cudnn_on_gpu\u001b[0m\u001b[1;33m=\u001b[0m\u001b[0muse_cudnn_on_gpu\u001b[0m\u001b[1;33m,\u001b[0m\u001b[1;33m\u001b[0m\u001b[1;33m\u001b[0m\u001b[0m\n\u001b[0;32m    993\u001b[0m             \u001b[0mpadding\u001b[0m\u001b[1;33m=\u001b[0m\u001b[0mpadding\u001b[0m\u001b[1;33m,\u001b[0m \u001b[0mdata_format\u001b[0m\u001b[1;33m=\u001b[0m\u001b[0mdata_format\u001b[0m\u001b[1;33m,\u001b[0m \u001b[0mdilations\u001b[0m\u001b[1;33m=\u001b[0m\u001b[0mdilations\u001b[0m\u001b[1;33m,\u001b[0m\u001b[1;33m\u001b[0m\u001b[1;33m\u001b[0m\u001b[0m\n\u001b[1;32m--> 994\u001b[1;33m             name=name, ctx=_ctx)\n\u001b[0m\u001b[0;32m    995\u001b[0m       \u001b[1;32mexcept\u001b[0m \u001b[0m_core\u001b[0m\u001b[1;33m.\u001b[0m\u001b[0m_SymbolicException\u001b[0m\u001b[1;33m:\u001b[0m\u001b[1;33m\u001b[0m\u001b[1;33m\u001b[0m\u001b[0m\n\u001b[0;32m    996\u001b[0m         \u001b[1;32mpass\u001b[0m  \u001b[1;31m# Add nodes to the TensorFlow graph.\u001b[0m\u001b[1;33m\u001b[0m\u001b[1;33m\u001b[0m\u001b[0m\n",
      "\u001b[1;32m~\\Anaconda3\\envs\\pyPlate\\lib\\site-packages\\tensorflow\\python\\ops\\gen_nn_ops.py\u001b[0m in \u001b[0;36mconv2d_eager_fallback\u001b[1;34m(input, filter, strides, padding, use_cudnn_on_gpu, data_format, dilations, name, ctx)\u001b[0m\n\u001b[0;32m   1063\u001b[0m         \"'conv2d' Op, not %r.\" % dilations)\n\u001b[0;32m   1064\u001b[0m   \u001b[0mdilations\u001b[0m \u001b[1;33m=\u001b[0m \u001b[1;33m[\u001b[0m\u001b[0m_execute\u001b[0m\u001b[1;33m.\u001b[0m\u001b[0mmake_int\u001b[0m\u001b[1;33m(\u001b[0m\u001b[0m_i\u001b[0m\u001b[1;33m,\u001b[0m \u001b[1;34m\"dilations\"\u001b[0m\u001b[1;33m)\u001b[0m \u001b[1;32mfor\u001b[0m \u001b[0m_i\u001b[0m \u001b[1;32min\u001b[0m \u001b[0mdilations\u001b[0m\u001b[1;33m]\u001b[0m\u001b[1;33m\u001b[0m\u001b[1;33m\u001b[0m\u001b[0m\n\u001b[1;32m-> 1065\u001b[1;33m   \u001b[0m_attr_T\u001b[0m\u001b[1;33m,\u001b[0m \u001b[0m_inputs_T\u001b[0m \u001b[1;33m=\u001b[0m \u001b[0m_execute\u001b[0m\u001b[1;33m.\u001b[0m\u001b[0margs_to_matching_eager\u001b[0m\u001b[1;33m(\u001b[0m\u001b[1;33m[\u001b[0m\u001b[0minput\u001b[0m\u001b[1;33m,\u001b[0m \u001b[0mfilter\u001b[0m\u001b[1;33m]\u001b[0m\u001b[1;33m,\u001b[0m \u001b[0m_ctx\u001b[0m\u001b[1;33m)\u001b[0m\u001b[1;33m\u001b[0m\u001b[1;33m\u001b[0m\u001b[0m\n\u001b[0m\u001b[0;32m   1066\u001b[0m   \u001b[1;33m(\u001b[0m\u001b[0minput\u001b[0m\u001b[1;33m,\u001b[0m \u001b[0mfilter\u001b[0m\u001b[1;33m)\u001b[0m \u001b[1;33m=\u001b[0m \u001b[0m_inputs_T\u001b[0m\u001b[1;33m\u001b[0m\u001b[1;33m\u001b[0m\u001b[0m\n\u001b[0;32m   1067\u001b[0m   \u001b[0m_inputs_flat\u001b[0m \u001b[1;33m=\u001b[0m \u001b[1;33m[\u001b[0m\u001b[0minput\u001b[0m\u001b[1;33m,\u001b[0m \u001b[0mfilter\u001b[0m\u001b[1;33m]\u001b[0m\u001b[1;33m\u001b[0m\u001b[1;33m\u001b[0m\u001b[0m\n",
      "\u001b[1;32m~\\Anaconda3\\envs\\pyPlate\\lib\\site-packages\\tensorflow\\python\\eager\\execute.py\u001b[0m in \u001b[0;36margs_to_matching_eager\u001b[1;34m(l, ctx, default_dtype)\u001b[0m\n\u001b[0;32m    200\u001b[0m         \u001b[0mdtype\u001b[0m \u001b[1;33m=\u001b[0m \u001b[0mret\u001b[0m\u001b[1;33m[\u001b[0m\u001b[1;33m-\u001b[0m\u001b[1;36m1\u001b[0m\u001b[1;33m]\u001b[0m\u001b[1;33m.\u001b[0m\u001b[0mdtype\u001b[0m\u001b[1;33m\u001b[0m\u001b[1;33m\u001b[0m\u001b[0m\n\u001b[0;32m    201\u001b[0m   \u001b[1;32melse\u001b[0m\u001b[1;33m:\u001b[0m\u001b[1;33m\u001b[0m\u001b[1;33m\u001b[0m\u001b[0m\n\u001b[1;32m--> 202\u001b[1;33m     \u001b[0mret\u001b[0m \u001b[1;33m=\u001b[0m \u001b[1;33m[\u001b[0m\u001b[0minternal_convert_to_tensor\u001b[0m\u001b[1;33m(\u001b[0m\u001b[0mt\u001b[0m\u001b[1;33m,\u001b[0m \u001b[0mdtype\u001b[0m\u001b[1;33m,\u001b[0m \u001b[0mctx\u001b[0m\u001b[1;33m=\u001b[0m\u001b[0mctx\u001b[0m\u001b[1;33m)\u001b[0m \u001b[1;32mfor\u001b[0m \u001b[0mt\u001b[0m \u001b[1;32min\u001b[0m \u001b[0ml\u001b[0m\u001b[1;33m]\u001b[0m\u001b[1;33m\u001b[0m\u001b[1;33m\u001b[0m\u001b[0m\n\u001b[0m\u001b[0;32m    203\u001b[0m \u001b[1;33m\u001b[0m\u001b[0m\n\u001b[0;32m    204\u001b[0m   \u001b[1;32mreturn\u001b[0m \u001b[0mdtype\u001b[0m\u001b[1;33m.\u001b[0m\u001b[0mas_datatype_enum\u001b[0m\u001b[1;33m,\u001b[0m \u001b[0mret\u001b[0m\u001b[1;33m\u001b[0m\u001b[1;33m\u001b[0m\u001b[0m\n",
      "\u001b[1;32m~\\Anaconda3\\envs\\pyPlate\\lib\\site-packages\\tensorflow\\python\\eager\\execute.py\u001b[0m in \u001b[0;36m<listcomp>\u001b[1;34m(.0)\u001b[0m\n\u001b[0;32m    200\u001b[0m         \u001b[0mdtype\u001b[0m \u001b[1;33m=\u001b[0m \u001b[0mret\u001b[0m\u001b[1;33m[\u001b[0m\u001b[1;33m-\u001b[0m\u001b[1;36m1\u001b[0m\u001b[1;33m]\u001b[0m\u001b[1;33m.\u001b[0m\u001b[0mdtype\u001b[0m\u001b[1;33m\u001b[0m\u001b[1;33m\u001b[0m\u001b[0m\n\u001b[0;32m    201\u001b[0m   \u001b[1;32melse\u001b[0m\u001b[1;33m:\u001b[0m\u001b[1;33m\u001b[0m\u001b[1;33m\u001b[0m\u001b[0m\n\u001b[1;32m--> 202\u001b[1;33m     \u001b[0mret\u001b[0m \u001b[1;33m=\u001b[0m \u001b[1;33m[\u001b[0m\u001b[0minternal_convert_to_tensor\u001b[0m\u001b[1;33m(\u001b[0m\u001b[0mt\u001b[0m\u001b[1;33m,\u001b[0m \u001b[0mdtype\u001b[0m\u001b[1;33m,\u001b[0m \u001b[0mctx\u001b[0m\u001b[1;33m=\u001b[0m\u001b[0mctx\u001b[0m\u001b[1;33m)\u001b[0m \u001b[1;32mfor\u001b[0m \u001b[0mt\u001b[0m \u001b[1;32min\u001b[0m \u001b[0ml\u001b[0m\u001b[1;33m]\u001b[0m\u001b[1;33m\u001b[0m\u001b[1;33m\u001b[0m\u001b[0m\n\u001b[0m\u001b[0;32m    203\u001b[0m \u001b[1;33m\u001b[0m\u001b[0m\n\u001b[0;32m    204\u001b[0m   \u001b[1;32mreturn\u001b[0m \u001b[0mdtype\u001b[0m\u001b[1;33m.\u001b[0m\u001b[0mas_datatype_enum\u001b[0m\u001b[1;33m,\u001b[0m \u001b[0mret\u001b[0m\u001b[1;33m\u001b[0m\u001b[1;33m\u001b[0m\u001b[0m\n",
      "\u001b[1;32m~\\Anaconda3\\envs\\pyPlate\\lib\\site-packages\\tensorflow\\python\\framework\\ops.py\u001b[0m in \u001b[0;36minternal_convert_to_tensor\u001b[1;34m(value, dtype, name, as_ref, preferred_dtype, ctx, accept_symbolic_tensors)\u001b[0m\n\u001b[0;32m   1173\u001b[0m \u001b[1;33m\u001b[0m\u001b[0m\n\u001b[0;32m   1174\u001b[0m     \u001b[1;32mif\u001b[0m \u001b[0mret\u001b[0m \u001b[1;32mis\u001b[0m \u001b[1;32mNone\u001b[0m\u001b[1;33m:\u001b[0m\u001b[1;33m\u001b[0m\u001b[1;33m\u001b[0m\u001b[0m\n\u001b[1;32m-> 1175\u001b[1;33m       \u001b[0mret\u001b[0m \u001b[1;33m=\u001b[0m \u001b[0mconversion_func\u001b[0m\u001b[1;33m(\u001b[0m\u001b[0mvalue\u001b[0m\u001b[1;33m,\u001b[0m \u001b[0mdtype\u001b[0m\u001b[1;33m=\u001b[0m\u001b[0mdtype\u001b[0m\u001b[1;33m,\u001b[0m \u001b[0mname\u001b[0m\u001b[1;33m=\u001b[0m\u001b[0mname\u001b[0m\u001b[1;33m,\u001b[0m \u001b[0mas_ref\u001b[0m\u001b[1;33m=\u001b[0m\u001b[0mas_ref\u001b[0m\u001b[1;33m)\u001b[0m\u001b[1;33m\u001b[0m\u001b[1;33m\u001b[0m\u001b[0m\n\u001b[0m\u001b[0;32m   1176\u001b[0m \u001b[1;33m\u001b[0m\u001b[0m\n\u001b[0;32m   1177\u001b[0m     \u001b[1;32mif\u001b[0m \u001b[0mret\u001b[0m \u001b[1;32mis\u001b[0m \u001b[0mNotImplemented\u001b[0m\u001b[1;33m:\u001b[0m\u001b[1;33m\u001b[0m\u001b[1;33m\u001b[0m\u001b[0m\n",
      "\u001b[1;32m~\\Anaconda3\\envs\\pyPlate\\lib\\site-packages\\tensorflow\\python\\ops\\variables.py\u001b[0m in \u001b[0;36m_TensorConversionFunction\u001b[1;34m(v, dtype, name, as_ref)\u001b[0m\n\u001b[0;32m    904\u001b[0m       raise ValueError(\n\u001b[0;32m    905\u001b[0m           \u001b[1;34m\"Incompatible type conversion requested to type '%s' for variable \"\u001b[0m\u001b[1;33m\u001b[0m\u001b[1;33m\u001b[0m\u001b[0m\n\u001b[1;32m--> 906\u001b[1;33m           \"of type '%s'\" % (dtype.name, v.dtype.name))\n\u001b[0m\u001b[0;32m    907\u001b[0m     \u001b[1;32mif\u001b[0m \u001b[0mas_ref\u001b[0m\u001b[1;33m:\u001b[0m\u001b[1;33m\u001b[0m\u001b[1;33m\u001b[0m\u001b[0m\n\u001b[0;32m    908\u001b[0m       \u001b[1;32mreturn\u001b[0m \u001b[0mv\u001b[0m\u001b[1;33m.\u001b[0m\u001b[0m_ref\u001b[0m\u001b[1;33m(\u001b[0m\u001b[1;33m)\u001b[0m  \u001b[1;31m# pylint: disable=protected-access\u001b[0m\u001b[1;33m\u001b[0m\u001b[1;33m\u001b[0m\u001b[0m\n",
      "\u001b[1;31mValueError\u001b[0m: Incompatible type conversion requested to type 'int32' for variable of type 'float32'"
     ]
    }
   ],
   "source": [
    "VGGModel = VGGModel(NUM_CLASSES)\n",
    "VGGModel.compile(loss=tf.keras.losses.SparseCategoricalCrossentropy(),\n",
    "            optimizer= tf.keras.optimizers.Adam(LEARNING_RATE),\n",
    "            metrics=['accuracy'])"
   ]
  },
  {
   "cell_type": "code",
   "execution_count": 26,
   "metadata": {},
   "outputs": [
    {
     "name": "stdout",
     "output_type": "stream",
     "text": [
      "Epoch 1/80\n"
     ]
    },
    {
     "ename": "ResourceExhaustedError",
     "evalue": "OOM when allocating tensor with shape[25088,4096] and type float on /job:localhost/replica:0/task:0/device:GPU:0 by allocator GPU_0_bfc\n\t [[{{node training_1/Adam/mul_121}}]]\nHint: If you want to see a list of allocated tensors when OOM happens, add report_tensor_allocations_upon_oom to RunOptions for current allocation info.\n\n\t [[{{node ConstantFoldingCtrl/loss_2/dense_6_loss/broadcast_weights/assert_broadcastable/AssertGuard/Switch_0/_19}}]]\nHint: If you want to see a list of allocated tensors when OOM happens, add report_tensor_allocations_upon_oom to RunOptions for current allocation info.\n [Op:StatefulPartitionedCall]",
     "output_type": "error",
     "traceback": [
      "\u001b[1;31m---------------------------------------------------------------------------\u001b[0m",
      "\u001b[1;31mResourceExhaustedError\u001b[0m                    Traceback (most recent call last)",
      "\u001b[1;32m<ipython-input-26-abca0f611a22>\u001b[0m in \u001b[0;36m<module>\u001b[1;34m\u001b[0m\n\u001b[0;32m      1\u001b[0m historyVGG = VGGModel.fit(x = trainAlexData, epochs=EPOCHS, steps_per_epoch=(len(trainSources)//BACH_SIZE), initial_epoch=0,\n\u001b[1;32m----> 2\u001b[1;33m                          validation_data = valAlexData, validation_steps= VALIDATION_STEP)\n\u001b[0m",
      "\u001b[1;32m~\\Anaconda3\\envs\\pyPlate\\lib\\site-packages\\tensorflow\\python\\keras\\engine\\training.py\u001b[0m in \u001b[0;36mfit\u001b[1;34m(self, x, y, batch_size, epochs, verbose, callbacks, validation_split, validation_data, shuffle, class_weight, sample_weight, initial_epoch, steps_per_epoch, validation_steps, max_queue_size, workers, use_multiprocessing, **kwargs)\u001b[0m\n\u001b[0;32m    849\u001b[0m           \u001b[0mvalidation_steps\u001b[0m\u001b[1;33m=\u001b[0m\u001b[0mvalidation_steps\u001b[0m\u001b[1;33m,\u001b[0m\u001b[1;33m\u001b[0m\u001b[1;33m\u001b[0m\u001b[0m\n\u001b[0;32m    850\u001b[0m           \u001b[0mworkers\u001b[0m\u001b[1;33m=\u001b[0m\u001b[1;36m0\u001b[0m\u001b[1;33m,\u001b[0m\u001b[1;33m\u001b[0m\u001b[1;33m\u001b[0m\u001b[0m\n\u001b[1;32m--> 851\u001b[1;33m           initial_epoch=initial_epoch)\n\u001b[0m\u001b[0;32m    852\u001b[0m     elif distributed_training_utils.is_tpu_strategy(\n\u001b[0;32m    853\u001b[0m         self._distribution_strategy):\n",
      "\u001b[1;32m~\\Anaconda3\\envs\\pyPlate\\lib\\site-packages\\tensorflow\\python\\keras\\engine\\training_generator.py\u001b[0m in \u001b[0;36mmodel_iteration\u001b[1;34m(model, data, steps_per_epoch, epochs, verbose, callbacks, validation_data, validation_steps, class_weight, max_queue_size, workers, use_multiprocessing, shuffle, initial_epoch, mode, batch_size, **kwargs)\u001b[0m\n\u001b[0;32m    189\u001b[0m       \u001b[0mprogbar\u001b[0m\u001b[1;33m.\u001b[0m\u001b[0mon_batch_begin\u001b[0m\u001b[1;33m(\u001b[0m\u001b[0mstep\u001b[0m\u001b[1;33m,\u001b[0m \u001b[0mbatch_logs\u001b[0m\u001b[1;33m)\u001b[0m\u001b[1;33m\u001b[0m\u001b[1;33m\u001b[0m\u001b[0m\n\u001b[0;32m    190\u001b[0m \u001b[1;33m\u001b[0m\u001b[0m\n\u001b[1;32m--> 191\u001b[1;33m       \u001b[0mbatch_outs\u001b[0m \u001b[1;33m=\u001b[0m \u001b[0mbatch_function\u001b[0m\u001b[1;33m(\u001b[0m\u001b[1;33m*\u001b[0m\u001b[0mbatch_data\u001b[0m\u001b[1;33m)\u001b[0m\u001b[1;33m\u001b[0m\u001b[1;33m\u001b[0m\u001b[0m\n\u001b[0m\u001b[0;32m    192\u001b[0m       \u001b[1;32mif\u001b[0m \u001b[1;32mnot\u001b[0m \u001b[0misinstance\u001b[0m\u001b[1;33m(\u001b[0m\u001b[0mbatch_outs\u001b[0m\u001b[1;33m,\u001b[0m \u001b[0mlist\u001b[0m\u001b[1;33m)\u001b[0m\u001b[1;33m:\u001b[0m\u001b[1;33m\u001b[0m\u001b[1;33m\u001b[0m\u001b[0m\n\u001b[0;32m    193\u001b[0m         \u001b[0mbatch_outs\u001b[0m \u001b[1;33m=\u001b[0m \u001b[1;33m[\u001b[0m\u001b[0mbatch_outs\u001b[0m\u001b[1;33m]\u001b[0m\u001b[1;33m\u001b[0m\u001b[1;33m\u001b[0m\u001b[0m\n",
      "\u001b[1;32m~\\Anaconda3\\envs\\pyPlate\\lib\\site-packages\\tensorflow\\python\\keras\\engine\\training.py\u001b[0m in \u001b[0;36mtrain_on_batch\u001b[1;34m(self, x, y, sample_weight, class_weight, reset_metrics)\u001b[0m\n\u001b[0;32m   1189\u001b[0m       \u001b[1;32melse\u001b[0m\u001b[1;33m:\u001b[0m\u001b[1;33m\u001b[0m\u001b[1;33m\u001b[0m\u001b[0m\n\u001b[0;32m   1190\u001b[0m         \u001b[0mself\u001b[0m\u001b[1;33m.\u001b[0m\u001b[0m_make_fit_function\u001b[0m\u001b[1;33m(\u001b[0m\u001b[1;33m)\u001b[0m\u001b[1;33m\u001b[0m\u001b[1;33m\u001b[0m\u001b[0m\n\u001b[1;32m-> 1191\u001b[1;33m         \u001b[0moutputs\u001b[0m \u001b[1;33m=\u001b[0m \u001b[0mself\u001b[0m\u001b[1;33m.\u001b[0m\u001b[0m_fit_function\u001b[0m\u001b[1;33m(\u001b[0m\u001b[0mins\u001b[0m\u001b[1;33m)\u001b[0m  \u001b[1;31m# pylint: disable=not-callable\u001b[0m\u001b[1;33m\u001b[0m\u001b[1;33m\u001b[0m\u001b[0m\n\u001b[0m\u001b[0;32m   1192\u001b[0m \u001b[1;33m\u001b[0m\u001b[0m\n\u001b[0;32m   1193\u001b[0m     \u001b[1;32mif\u001b[0m \u001b[0mreset_metrics\u001b[0m\u001b[1;33m:\u001b[0m\u001b[1;33m\u001b[0m\u001b[1;33m\u001b[0m\u001b[0m\n",
      "\u001b[1;32m~\\Anaconda3\\envs\\pyPlate\\lib\\site-packages\\tensorflow\\python\\keras\\backend.py\u001b[0m in \u001b[0;36m__call__\u001b[1;34m(self, inputs)\u001b[0m\n\u001b[0;32m   3164\u001b[0m         \u001b[0mvalue\u001b[0m \u001b[1;33m=\u001b[0m \u001b[0mmath_ops\u001b[0m\u001b[1;33m.\u001b[0m\u001b[0mcast\u001b[0m\u001b[1;33m(\u001b[0m\u001b[0mvalue\u001b[0m\u001b[1;33m,\u001b[0m \u001b[0mtensor\u001b[0m\u001b[1;33m.\u001b[0m\u001b[0mdtype\u001b[0m\u001b[1;33m)\u001b[0m\u001b[1;33m\u001b[0m\u001b[1;33m\u001b[0m\u001b[0m\n\u001b[0;32m   3165\u001b[0m       \u001b[0mconverted_inputs\u001b[0m\u001b[1;33m.\u001b[0m\u001b[0mappend\u001b[0m\u001b[1;33m(\u001b[0m\u001b[0mvalue\u001b[0m\u001b[1;33m)\u001b[0m\u001b[1;33m\u001b[0m\u001b[1;33m\u001b[0m\u001b[0m\n\u001b[1;32m-> 3166\u001b[1;33m     \u001b[0moutputs\u001b[0m \u001b[1;33m=\u001b[0m \u001b[0mself\u001b[0m\u001b[1;33m.\u001b[0m\u001b[0m_graph_fn\u001b[0m\u001b[1;33m(\u001b[0m\u001b[1;33m*\u001b[0m\u001b[0mconverted_inputs\u001b[0m\u001b[1;33m)\u001b[0m\u001b[1;33m\u001b[0m\u001b[1;33m\u001b[0m\u001b[0m\n\u001b[0m\u001b[0;32m   3167\u001b[0m     return nest.pack_sequence_as(self._outputs_structure,\n\u001b[0;32m   3168\u001b[0m                                  [x.numpy() for x in outputs])\n",
      "\u001b[1;32m~\\Anaconda3\\envs\\pyPlate\\lib\\site-packages\\tensorflow\\python\\eager\\function.py\u001b[0m in \u001b[0;36m__call__\u001b[1;34m(self, *args, **kwargs)\u001b[0m\n\u001b[0;32m    366\u001b[0m           \u001b[1;32mraise\u001b[0m \u001b[0mTypeError\u001b[0m\u001b[1;33m(\u001b[0m\u001b[1;34m\"Got two values for keyword '{}'.\"\u001b[0m\u001b[1;33m.\u001b[0m\u001b[0mformat\u001b[0m\u001b[1;33m(\u001b[0m\u001b[0munused_key\u001b[0m\u001b[1;33m)\u001b[0m\u001b[1;33m)\u001b[0m\u001b[1;33m\u001b[0m\u001b[1;33m\u001b[0m\u001b[0m\n\u001b[0;32m    367\u001b[0m       \u001b[1;32mraise\u001b[0m \u001b[0mTypeError\u001b[0m\u001b[1;33m(\u001b[0m\u001b[1;34m\"Keyword arguments {} unknown.\"\u001b[0m\u001b[1;33m.\u001b[0m\u001b[0mformat\u001b[0m\u001b[1;33m(\u001b[0m\u001b[0mkwargs\u001b[0m\u001b[1;33m.\u001b[0m\u001b[0mkeys\u001b[0m\u001b[1;33m(\u001b[0m\u001b[1;33m)\u001b[0m\u001b[1;33m)\u001b[0m\u001b[1;33m)\u001b[0m\u001b[1;33m\u001b[0m\u001b[1;33m\u001b[0m\u001b[0m\n\u001b[1;32m--> 368\u001b[1;33m     \u001b[1;32mreturn\u001b[0m \u001b[0mself\u001b[0m\u001b[1;33m.\u001b[0m\u001b[0m_call_flat\u001b[0m\u001b[1;33m(\u001b[0m\u001b[0margs\u001b[0m\u001b[1;33m)\u001b[0m\u001b[1;33m\u001b[0m\u001b[1;33m\u001b[0m\u001b[0m\n\u001b[0m\u001b[0;32m    369\u001b[0m \u001b[1;33m\u001b[0m\u001b[0m\n\u001b[0;32m    370\u001b[0m   \u001b[1;32mdef\u001b[0m \u001b[0m_filtered_call\u001b[0m\u001b[1;33m(\u001b[0m\u001b[0mself\u001b[0m\u001b[1;33m,\u001b[0m \u001b[0margs\u001b[0m\u001b[1;33m,\u001b[0m \u001b[0mkwargs\u001b[0m\u001b[1;33m)\u001b[0m\u001b[1;33m:\u001b[0m\u001b[1;33m\u001b[0m\u001b[1;33m\u001b[0m\u001b[0m\n",
      "\u001b[1;32m~\\Anaconda3\\envs\\pyPlate\\lib\\site-packages\\tensorflow\\python\\eager\\function.py\u001b[0m in \u001b[0;36m_call_flat\u001b[1;34m(self, args)\u001b[0m\n\u001b[0;32m    431\u001b[0m     \u001b[1;31m# Only need to override the gradient in graph mode and when we have outputs.\u001b[0m\u001b[1;33m\u001b[0m\u001b[1;33m\u001b[0m\u001b[1;33m\u001b[0m\u001b[0m\n\u001b[0;32m    432\u001b[0m     \u001b[1;32mif\u001b[0m \u001b[0mcontext\u001b[0m\u001b[1;33m.\u001b[0m\u001b[0mexecuting_eagerly\u001b[0m\u001b[1;33m(\u001b[0m\u001b[1;33m)\u001b[0m \u001b[1;32mor\u001b[0m \u001b[1;32mnot\u001b[0m \u001b[0mself\u001b[0m\u001b[1;33m.\u001b[0m\u001b[0moutputs\u001b[0m\u001b[1;33m:\u001b[0m\u001b[1;33m\u001b[0m\u001b[1;33m\u001b[0m\u001b[0m\n\u001b[1;32m--> 433\u001b[1;33m       \u001b[0moutputs\u001b[0m \u001b[1;33m=\u001b[0m \u001b[0mself\u001b[0m\u001b[1;33m.\u001b[0m\u001b[0m_inference_function\u001b[0m\u001b[1;33m.\u001b[0m\u001b[0mcall\u001b[0m\u001b[1;33m(\u001b[0m\u001b[0mctx\u001b[0m\u001b[1;33m,\u001b[0m \u001b[0margs\u001b[0m\u001b[1;33m)\u001b[0m\u001b[1;33m\u001b[0m\u001b[1;33m\u001b[0m\u001b[0m\n\u001b[0m\u001b[0;32m    434\u001b[0m     \u001b[1;32melse\u001b[0m\u001b[1;33m:\u001b[0m\u001b[1;33m\u001b[0m\u001b[1;33m\u001b[0m\u001b[0m\n\u001b[0;32m    435\u001b[0m       \u001b[1;32mif\u001b[0m \u001b[1;32mnot\u001b[0m \u001b[0mself\u001b[0m\u001b[1;33m.\u001b[0m\u001b[0m_gradient_name\u001b[0m\u001b[1;33m:\u001b[0m\u001b[1;33m\u001b[0m\u001b[1;33m\u001b[0m\u001b[0m\n",
      "\u001b[1;32m~\\Anaconda3\\envs\\pyPlate\\lib\\site-packages\\tensorflow\\python\\eager\\function.py\u001b[0m in \u001b[0;36mcall\u001b[1;34m(self, ctx, args)\u001b[0m\n\u001b[0;32m    267\u001b[0m           \u001b[0mexecuting_eagerly\u001b[0m\u001b[1;33m=\u001b[0m\u001b[0mexecuting_eagerly\u001b[0m\u001b[1;33m,\u001b[0m\u001b[1;33m\u001b[0m\u001b[1;33m\u001b[0m\u001b[0m\n\u001b[0;32m    268\u001b[0m           \u001b[0mconfig\u001b[0m\u001b[1;33m=\u001b[0m\u001b[0mfunction_call_options\u001b[0m\u001b[1;33m.\u001b[0m\u001b[0mconfig_proto_serialized\u001b[0m\u001b[1;33m,\u001b[0m\u001b[1;33m\u001b[0m\u001b[1;33m\u001b[0m\u001b[0m\n\u001b[1;32m--> 269\u001b[1;33m           executor_type=function_call_options.executor_type)\n\u001b[0m\u001b[0;32m    270\u001b[0m \u001b[1;33m\u001b[0m\u001b[0m\n\u001b[0;32m    271\u001b[0m     \u001b[1;32mif\u001b[0m \u001b[0mexecuting_eagerly\u001b[0m\u001b[1;33m:\u001b[0m\u001b[1;33m\u001b[0m\u001b[1;33m\u001b[0m\u001b[0m\n",
      "\u001b[1;32m~\\Anaconda3\\envs\\pyPlate\\lib\\site-packages\\tensorflow\\python\\ops\\functional_ops.py\u001b[0m in \u001b[0;36mpartitioned_call\u001b[1;34m(args, f, tout, executing_eagerly, config, executor_type)\u001b[0m\n\u001b[0;32m   1081\u001b[0m       outputs = gen_functional_ops.stateful_partitioned_call(\n\u001b[0;32m   1082\u001b[0m           \u001b[0margs\u001b[0m\u001b[1;33m=\u001b[0m\u001b[0margs\u001b[0m\u001b[1;33m,\u001b[0m \u001b[0mTout\u001b[0m\u001b[1;33m=\u001b[0m\u001b[0mtout\u001b[0m\u001b[1;33m,\u001b[0m \u001b[0mf\u001b[0m\u001b[1;33m=\u001b[0m\u001b[0mf\u001b[0m\u001b[1;33m,\u001b[0m \u001b[0mconfig_proto\u001b[0m\u001b[1;33m=\u001b[0m\u001b[0mconfig\u001b[0m\u001b[1;33m,\u001b[0m\u001b[1;33m\u001b[0m\u001b[1;33m\u001b[0m\u001b[0m\n\u001b[1;32m-> 1083\u001b[1;33m           executor_type=executor_type)\n\u001b[0m\u001b[0;32m   1084\u001b[0m     \u001b[1;32melse\u001b[0m\u001b[1;33m:\u001b[0m\u001b[1;33m\u001b[0m\u001b[1;33m\u001b[0m\u001b[0m\n\u001b[0;32m   1085\u001b[0m       outputs = gen_functional_ops.partitioned_call(\n",
      "\u001b[1;32m~\\Anaconda3\\envs\\pyPlate\\lib\\site-packages\\tensorflow\\python\\ops\\gen_functional_ops.py\u001b[0m in \u001b[0;36mstateful_partitioned_call\u001b[1;34m(args, Tout, f, config, config_proto, executor_type, name)\u001b[0m\n\u001b[0;32m    495\u001b[0m       \u001b[1;32melse\u001b[0m\u001b[1;33m:\u001b[0m\u001b[1;33m\u001b[0m\u001b[1;33m\u001b[0m\u001b[0m\n\u001b[0;32m    496\u001b[0m         \u001b[0mmessage\u001b[0m \u001b[1;33m=\u001b[0m \u001b[0me\u001b[0m\u001b[1;33m.\u001b[0m\u001b[0mmessage\u001b[0m\u001b[1;33m\u001b[0m\u001b[1;33m\u001b[0m\u001b[0m\n\u001b[1;32m--> 497\u001b[1;33m       \u001b[0m_six\u001b[0m\u001b[1;33m.\u001b[0m\u001b[0mraise_from\u001b[0m\u001b[1;33m(\u001b[0m\u001b[0m_core\u001b[0m\u001b[1;33m.\u001b[0m\u001b[0m_status_to_exception\u001b[0m\u001b[1;33m(\u001b[0m\u001b[0me\u001b[0m\u001b[1;33m.\u001b[0m\u001b[0mcode\u001b[0m\u001b[1;33m,\u001b[0m \u001b[0mmessage\u001b[0m\u001b[1;33m)\u001b[0m\u001b[1;33m,\u001b[0m \u001b[1;32mNone\u001b[0m\u001b[1;33m)\u001b[0m\u001b[1;33m\u001b[0m\u001b[1;33m\u001b[0m\u001b[0m\n\u001b[0m\u001b[0;32m    498\u001b[0m   \u001b[1;31m# Add nodes to the TensorFlow graph.\u001b[0m\u001b[1;33m\u001b[0m\u001b[1;33m\u001b[0m\u001b[1;33m\u001b[0m\u001b[0m\n\u001b[0;32m    499\u001b[0m   \u001b[1;32mif\u001b[0m \u001b[1;32mnot\u001b[0m \u001b[0misinstance\u001b[0m\u001b[1;33m(\u001b[0m\u001b[0mTout\u001b[0m\u001b[1;33m,\u001b[0m \u001b[1;33m(\u001b[0m\u001b[0mlist\u001b[0m\u001b[1;33m,\u001b[0m \u001b[0mtuple\u001b[0m\u001b[1;33m)\u001b[0m\u001b[1;33m)\u001b[0m\u001b[1;33m:\u001b[0m\u001b[1;33m\u001b[0m\u001b[1;33m\u001b[0m\u001b[0m\n",
      "\u001b[1;32m~\\Anaconda3\\envs\\pyPlate\\lib\\site-packages\\six.py\u001b[0m in \u001b[0;36mraise_from\u001b[1;34m(value, from_value)\u001b[0m\n",
      "\u001b[1;31mResourceExhaustedError\u001b[0m: OOM when allocating tensor with shape[25088,4096] and type float on /job:localhost/replica:0/task:0/device:GPU:0 by allocator GPU_0_bfc\n\t [[{{node training_1/Adam/mul_121}}]]\nHint: If you want to see a list of allocated tensors when OOM happens, add report_tensor_allocations_upon_oom to RunOptions for current allocation info.\n\n\t [[{{node ConstantFoldingCtrl/loss_2/dense_6_loss/broadcast_weights/assert_broadcastable/AssertGuard/Switch_0/_19}}]]\nHint: If you want to see a list of allocated tensors when OOM happens, add report_tensor_allocations_upon_oom to RunOptions for current allocation info.\n [Op:StatefulPartitionedCall]"
     ]
    }
   ],
   "source": [
    "historyVGG = VGGModel.fit(x = trainAlexData, epochs=EPOCHS, steps_per_epoch=(len(trainSources)//BACH_SIZE), initial_epoch=0,\n",
    "                         validation_data = valAlexData, validation_steps= VALIDATION_STEP)"
   ]
  },
  {
   "cell_type": "code",
   "execution_count": null,
   "metadata": {},
   "outputs": [],
   "source": []
  }
 ],
 "metadata": {
  "kernelspec": {
   "display_name": "Python 3",
   "language": "python",
   "name": "python3"
  },
  "language_info": {
   "codemirror_mode": {
    "name": "ipython",
    "version": 3
   },
   "file_extension": ".py",
   "mimetype": "text/x-python",
   "name": "python",
   "nbconvert_exporter": "python",
   "pygments_lexer": "ipython3",
   "version": "3.6.8"
  }
 },
 "nbformat": 4,
 "nbformat_minor": 2
}
