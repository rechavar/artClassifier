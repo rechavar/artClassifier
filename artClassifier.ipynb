{
 "cells": [
  {
   "cell_type": "markdown",
   "metadata": {},
   "source": [
    "## artClassifier best group"
   ]
  },
  {
   "cell_type": "code",
   "execution_count": 2,
   "metadata": {},
   "outputs": [],
   "source": [
    "import math\n",
    "import numpy as np\n",
    "import pandas as pd\n",
    "from data import *\n",
    "tf.enable_eager_execution()"
   ]
  },
  {
   "cell_type": "code",
   "execution_count": null,
   "metadata": {},
   "outputs": [],
   "source": [
    "prepareDataset(r'C:\\Users\\USER\\Desktop\\Universidad\\Grupo de estudio DeepLearning\\ART_DATASET\\Dataset')"
   ]
  },
  {
   "cell_type": "code",
   "execution_count": 3,
   "metadata": {},
   "outputs": [
    {
     "data": {
      "text/html": [
       "<div>\n",
       "<style scoped>\n",
       "    .dataframe tbody tr th:only-of-type {\n",
       "        vertical-align: middle;\n",
       "    }\n",
       "\n",
       "    .dataframe tbody tr th {\n",
       "        vertical-align: top;\n",
       "    }\n",
       "\n",
       "    .dataframe thead th {\n",
       "        text-align: right;\n",
       "    }\n",
       "</style>\n",
       "<table border=\"1\" class=\"dataframe\">\n",
       "  <thead>\n",
       "    <tr style=\"text-align: right;\">\n",
       "      <th></th>\n",
       "      <th>imageLabel</th>\n",
       "      <th>imageName</th>\n",
       "      <th>split</th>\n",
       "    </tr>\n",
       "  </thead>\n",
       "  <tbody>\n",
       "    <tr>\n",
       "      <th>0</th>\n",
       "      <td>Escultura</td>\n",
       "      <td>5221074434152370610.PNG</td>\n",
       "      <td>test</td>\n",
       "    </tr>\n",
       "    <tr>\n",
       "      <th>1</th>\n",
       "      <td>Mural</td>\n",
       "      <td>7859027545231467939.PNG</td>\n",
       "      <td>train</td>\n",
       "    </tr>\n",
       "    <tr>\n",
       "      <th>2</th>\n",
       "      <td>Escultura</td>\n",
       "      <td>3236295940441043398.PNG</td>\n",
       "      <td>train</td>\n",
       "    </tr>\n",
       "    <tr>\n",
       "      <th>3</th>\n",
       "      <td>Escultura</td>\n",
       "      <td>7227460876167945849.PNG</td>\n",
       "      <td>test</td>\n",
       "    </tr>\n",
       "    <tr>\n",
       "      <th>4</th>\n",
       "      <td>fotografia</td>\n",
       "      <td>11492656038070760711.PNG</td>\n",
       "      <td>train</td>\n",
       "    </tr>\n",
       "  </tbody>\n",
       "</table>\n",
       "</div>"
      ],
      "text/plain": [
       "   imageLabel                 imageName  split\n",
       "0   Escultura   5221074434152370610.PNG   test\n",
       "1       Mural   7859027545231467939.PNG  train\n",
       "2   Escultura   3236295940441043398.PNG  train\n",
       "3   Escultura   7227460876167945849.PNG   test\n",
       "4  fotografia  11492656038070760711.PNG  train"
      ]
     },
     "execution_count": 3,
     "metadata": {},
     "output_type": "execute_result"
    }
   ],
   "source": [
    "metadata = pd.read_csv('metadata.csv')\n",
    "metadata.head(5)"
   ]
  },
  {
   "cell_type": "code",
   "execution_count": 4,
   "metadata": {},
   "outputs": [
    {
     "data": {
      "text/html": [
       "<div>\n",
       "<style scoped>\n",
       "    .dataframe tbody tr th:only-of-type {\n",
       "        vertical-align: middle;\n",
       "    }\n",
       "\n",
       "    .dataframe tbody tr th {\n",
       "        vertical-align: top;\n",
       "    }\n",
       "\n",
       "    .dataframe thead th {\n",
       "        text-align: right;\n",
       "    }\n",
       "</style>\n",
       "<table border=\"1\" class=\"dataframe\">\n",
       "  <thead>\n",
       "    <tr style=\"text-align: right;\">\n",
       "      <th></th>\n",
       "      <th>imageLabel</th>\n",
       "      <th>imageName</th>\n",
       "      <th>split</th>\n",
       "    </tr>\n",
       "  </thead>\n",
       "  <tbody>\n",
       "    <tr>\n",
       "      <th>0</th>\n",
       "      <td>Escultura</td>\n",
       "      <td>3236295940441043398.PNG</td>\n",
       "      <td>train</td>\n",
       "    </tr>\n",
       "    <tr>\n",
       "      <th>1</th>\n",
       "      <td>Mural</td>\n",
       "      <td>7859027545231467939.PNG</td>\n",
       "      <td>train</td>\n",
       "    </tr>\n",
       "    <tr>\n",
       "      <th>2</th>\n",
       "      <td>fotografia</td>\n",
       "      <td>11492656038070760711.PNG</td>\n",
       "      <td>train</td>\n",
       "    </tr>\n",
       "    <tr>\n",
       "      <th>3</th>\n",
       "      <td>pintura</td>\n",
       "      <td>10810924389287201023.PNG</td>\n",
       "      <td>train</td>\n",
       "    </tr>\n",
       "    <tr>\n",
       "      <th>4</th>\n",
       "      <td>dibujo</td>\n",
       "      <td>2751297518249964274.PNG</td>\n",
       "      <td>train</td>\n",
       "    </tr>\n",
       "  </tbody>\n",
       "</table>\n",
       "</div>"
      ],
      "text/plain": [
       "   imageLabel                 imageName  split\n",
       "0   Escultura   3236295940441043398.PNG  train\n",
       "1       Mural   7859027545231467939.PNG  train\n",
       "2  fotografia  11492656038070760711.PNG  train\n",
       "3     pintura  10810924389287201023.PNG  train\n",
       "4      dibujo   2751297518249964274.PNG  train"
      ]
     },
     "execution_count": 4,
     "metadata": {},
     "output_type": "execute_result"
    }
   ],
   "source": [
    "metadata1 = pd.read_csv('metadata1.csv')\n",
    "metadata1.head(5)"
   ]
  },
  {
   "cell_type": "code",
   "execution_count": 5,
   "metadata": {},
   "outputs": [
    {
     "name": "stderr",
     "output_type": "stream",
     "text": [
      "C:\\Users\\USER\\Desktop\\Universidad\\Grupo de estudio DeepLearning\\artClassifier\\data.py:70: SettingWithCopyWarning: \n",
      "A value is trying to be set on a copy of a slice from a DataFrame.\n",
      "Try using .loc[row_indexer,col_indexer] = value instead\n",
      "\n",
      "See the caveats in the documentation: http://pandas.pydata.org/pandas-docs/stable/indexing.html#indexing-view-versus-copy\n",
      "  df['filepath'] = metadata['imageName'].apply(lambda x: os.path.join(dataDir,x))\n",
      "C:\\Users\\USER\\Desktop\\Universidad\\Grupo de estudio DeepLearning\\artClassifier\\data.py:72: UserWarning: Boolean Series key will be reindexed to match DataFrame index.\n",
      "  df = df[includeMask]\n"
     ]
    }
   ],
   "source": [
    "trainSources = buildSources(metadata,r'C:\\Users\\USER\\Desktop\\Universidad\\Grupo de estudio DeepLearning\\artClassifier\\image_files')\n",
    "testSources = buildSources(metadata,r'\\C:\\Users\\USER\\Desktop\\Universidad\\Grupo de estudio DeepLearning\\artClassifier\\image_files', mode = 'test')\n",
    "valSources = buildSources(metadata,r'C:\\Users\\USER\\Desktop\\Universidad\\Grupo de estudio DeepLearning\\artClassifier\\image_files', mode = 'val')"
   ]
  },
  {
   "cell_type": "code",
   "execution_count": 6,
   "metadata": {},
   "outputs": [
    {
     "data": {
      "text/plain": [
       "[('C:\\\\Users\\\\USER\\\\Desktop\\\\Universidad\\\\Grupo de estudio DeepLearning\\\\artClassifier\\\\image_files\\\\7859027545231467939.PNG',\n",
       "  'Escultura'),\n",
       " ('C:\\\\Users\\\\USER\\\\Desktop\\\\Universidad\\\\Grupo de estudio DeepLearning\\\\artClassifier\\\\image_files\\\\3236295940441043398.PNG',\n",
       "  'Mural'),\n",
       " ('C:\\\\Users\\\\USER\\\\Desktop\\\\Universidad\\\\Grupo de estudio DeepLearning\\\\artClassifier\\\\image_files\\\\11492656038070760711.PNG',\n",
       "  'Escultura'),\n",
       " ('C:\\\\Users\\\\USER\\\\Desktop\\\\Universidad\\\\Grupo de estudio DeepLearning\\\\artClassifier\\\\image_files\\\\10810924389287201023.PNG',\n",
       "  'Escultura'),\n",
       " ('C:\\\\Users\\\\USER\\\\Desktop\\\\Universidad\\\\Grupo de estudio DeepLearning\\\\artClassifier\\\\image_files\\\\16586682034417848476.PNG',\n",
       "  'fotografia')]"
      ]
     },
     "execution_count": 6,
     "metadata": {},
     "output_type": "execute_result"
    }
   ],
   "source": [
    "trainSources[:5]"
   ]
  },
  {
   "cell_type": "code",
   "execution_count": null,
   "metadata": {},
   "outputs": [],
   "source": [
    "dataset = makeDataset(trainSources, training=True,\n",
    "    batch_size=3, num_epochs=1,\n",
    "    num_parallel_calls=3)"
   ]
  },
  {
   "cell_type": "code",
   "execution_count": null,
   "metadata": {},
   "outputs": [],
   "source": [
    "dataset = iter(dataset)"
   ]
  },
  {
   "cell_type": "code",
   "execution_count": null,
   "metadata": {},
   "outputs": [],
   "source": [
    "imshowThree(next(dataset))"
   ]
  },
  {
   "cell_type": "code",
   "execution_count": null,
   "metadata": {},
   "outputs": [],
   "source": []
  }
 ],
 "metadata": {
  "kernelspec": {
   "display_name": "Python 3",
   "language": "python",
   "name": "python3"
  },
  "language_info": {
   "codemirror_mode": {
    "name": "ipython",
    "version": 3
   },
   "file_extension": ".py",
   "mimetype": "text/x-python",
   "name": "python",
   "nbconvert_exporter": "python",
   "pygments_lexer": "ipython3",
   "version": "3.6.8"
  }
 },
 "nbformat": 4,
 "nbformat_minor": 2
}
