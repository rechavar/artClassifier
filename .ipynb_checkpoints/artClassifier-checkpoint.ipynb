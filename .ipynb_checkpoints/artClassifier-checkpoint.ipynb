{
 "cells": [
  {
   "cell_type": "markdown",
   "metadata": {},
   "source": [
    "## artClassifier best group"
   ]
  },
  {
   "cell_type": "code",
   "execution_count": 1,
   "metadata": {},
   "outputs": [],
   "source": [
    "import math\n",
    "import numpy as np\n",
    "import pandas as pd\n",
    "from data import *"
   ]
  },
  {
   "cell_type": "code",
   "execution_count": 2,
   "metadata": {},
   "outputs": [
    {
     "name": "stdout",
     "output_type": "stream",
     "text": [
      "IMG_20190422_132623.jpg.json\n",
      "IMG_20190422_132635.jpg.json\n"
     ]
    }
   ],
   "source": [
    "prepareDataset(r'C:\\Users\\USER\\Desktop\\Universidad\\Grupo de estudio DeepLearning\\ART_DATASET\\Dataset')"
   ]
  },
  {
   "cell_type": "code",
   "execution_count": 3,
   "metadata": {},
   "outputs": [
    {
     "data": {
      "text/html": [
       "<div>\n",
       "<style scoped>\n",
       "    .dataframe tbody tr th:only-of-type {\n",
       "        vertical-align: middle;\n",
       "    }\n",
       "\n",
       "    .dataframe tbody tr th {\n",
       "        vertical-align: top;\n",
       "    }\n",
       "\n",
       "    .dataframe thead th {\n",
       "        text-align: right;\n",
       "    }\n",
       "</style>\n",
       "<table border=\"1\" class=\"dataframe\">\n",
       "  <thead>\n",
       "    <tr style=\"text-align: right;\">\n",
       "      <th></th>\n",
       "      <th>imageLabel</th>\n",
       "      <th>imageName</th>\n",
       "      <th>split</th>\n",
       "    </tr>\n",
       "  </thead>\n",
       "  <tbody>\n",
       "    <tr>\n",
       "      <th>0</th>\n",
       "      <td>Escultura</td>\n",
       "      <td>1426424654173150406.PNG</td>\n",
       "      <td>train</td>\n",
       "    </tr>\n",
       "    <tr>\n",
       "      <th>1</th>\n",
       "      <td>Mural</td>\n",
       "      <td>5453332860091348101.PNG</td>\n",
       "      <td>train</td>\n",
       "    </tr>\n",
       "    <tr>\n",
       "      <th>2</th>\n",
       "      <td>Escultura</td>\n",
       "      <td>3828502283143730659.PNG</td>\n",
       "      <td>test</td>\n",
       "    </tr>\n",
       "    <tr>\n",
       "      <th>3</th>\n",
       "      <td>Escultura</td>\n",
       "      <td>2479595835654015800.PNG</td>\n",
       "      <td>val</td>\n",
       "    </tr>\n",
       "    <tr>\n",
       "      <th>4</th>\n",
       "      <td>fotografia</td>\n",
       "      <td>9887141646419969077.PNG</td>\n",
       "      <td>train</td>\n",
       "    </tr>\n",
       "  </tbody>\n",
       "</table>\n",
       "</div>"
      ],
      "text/plain": [
       "   imageLabel                imageName  split\n",
       "0   Escultura  1426424654173150406.PNG  train\n",
       "1       Mural  5453332860091348101.PNG  train\n",
       "2   Escultura  3828502283143730659.PNG   test\n",
       "3   Escultura  2479595835654015800.PNG    val\n",
       "4  fotografia  9887141646419969077.PNG  train"
      ]
     },
     "execution_count": 3,
     "metadata": {},
     "output_type": "execute_result"
    }
   ],
   "source": [
    "metadata = pd.read_csv('metadata.csv')\n",
    "metadata.head(5)"
   ]
  },
  {
   "cell_type": "code",
   "execution_count": 4,
   "metadata": {},
   "outputs": [
    {
     "data": {
      "text/html": [
       "<div>\n",
       "<style scoped>\n",
       "    .dataframe tbody tr th:only-of-type {\n",
       "        vertical-align: middle;\n",
       "    }\n",
       "\n",
       "    .dataframe tbody tr th {\n",
       "        vertical-align: top;\n",
       "    }\n",
       "\n",
       "    .dataframe thead th {\n",
       "        text-align: right;\n",
       "    }\n",
       "</style>\n",
       "<table border=\"1\" class=\"dataframe\">\n",
       "  <thead>\n",
       "    <tr style=\"text-align: right;\">\n",
       "      <th></th>\n",
       "      <th>imageLabel</th>\n",
       "      <th>imageName</th>\n",
       "      <th>split</th>\n",
       "    </tr>\n",
       "  </thead>\n",
       "  <tbody>\n",
       "    <tr>\n",
       "      <th>0</th>\n",
       "      <td>Escultura</td>\n",
       "      <td>1426424654173150406.PNG</td>\n",
       "      <td>train</td>\n",
       "    </tr>\n",
       "    <tr>\n",
       "      <th>1</th>\n",
       "      <td>Mural</td>\n",
       "      <td>5453332860091348101.PNG</td>\n",
       "      <td>train</td>\n",
       "    </tr>\n",
       "    <tr>\n",
       "      <th>2</th>\n",
       "      <td>fotografia</td>\n",
       "      <td>9887141646419969077.PNG</td>\n",
       "      <td>train</td>\n",
       "    </tr>\n",
       "    <tr>\n",
       "      <th>3</th>\n",
       "      <td>pintura</td>\n",
       "      <td>1461002593995747218.PNG</td>\n",
       "      <td>train</td>\n",
       "    </tr>\n",
       "    <tr>\n",
       "      <th>4</th>\n",
       "      <td>dibujo</td>\n",
       "      <td>13043759628743545698.PNG</td>\n",
       "      <td>train</td>\n",
       "    </tr>\n",
       "  </tbody>\n",
       "</table>\n",
       "</div>"
      ],
      "text/plain": [
       "   imageLabel                 imageName  split\n",
       "0   Escultura   1426424654173150406.PNG  train\n",
       "1       Mural   5453332860091348101.PNG  train\n",
       "2  fotografia   9887141646419969077.PNG  train\n",
       "3     pintura   1461002593995747218.PNG  train\n",
       "4      dibujo  13043759628743545698.PNG  train"
      ]
     },
     "execution_count": 4,
     "metadata": {},
     "output_type": "execute_result"
    }
   ],
   "source": [
    "metadata1 = pd.read_csv('metadata1.csv')\n",
    "metadata1.head(5)"
   ]
  },
  {
   "cell_type": "code",
   "execution_count": 5,
   "metadata": {},
   "outputs": [
    {
     "name": "stderr",
     "output_type": "stream",
     "text": [
      "C:\\Users\\USER\\Desktop\\Universidad\\Grupo de estudio DeepLearning\\artClassifier\\data.py:68: SettingWithCopyWarning: \n",
      "A value is trying to be set on a copy of a slice from a DataFrame.\n",
      "Try using .loc[row_indexer,col_indexer] = value instead\n",
      "\n",
      "See the caveats in the documentation: http://pandas.pydata.org/pandas-docs/stable/indexing.html#indexing-view-versus-copy\n",
      "  df['filepath'] = metadata['imageName'].apply(lambda x: os.path.join(dataDir,x))\n",
      "C:\\Users\\USER\\Desktop\\Universidad\\Grupo de estudio DeepLearning\\artClassifier\\data.py:70: UserWarning: Boolean Series key will be reindexed to match DataFrame index.\n",
      "  df = df[includeMask]\n"
     ]
    }
   ],
   "source": [
    "trainSources = buildSources(metadata,r'C:\\Users\\USER\\Desktop\\Universidad\\Grupo de estudio DeepLearning\\ART_DATASET\\Dataset')\n",
    "testSources = buildSources(metadata,r'C:\\Users\\USER\\Desktop\\Universidad\\Grupo de estudio DeepLearning\\ART_DATASET\\Dataset', mode = 'test')\n",
    "valSources = buildSources(metadata,r'C:\\Users\\USER\\Desktop\\Universidad\\Grupo de estudio DeepLearning\\ART_DATASET\\Dataset', mode = 'val')"
   ]
  },
  {
   "cell_type": "code",
   "execution_count": 6,
   "metadata": {},
   "outputs": [
    {
     "data": {
      "text/plain": [
       "[('C:\\\\Users\\\\USER\\\\Desktop\\\\Universidad\\\\Grupo de estudio DeepLearning\\\\ART_DATASET\\\\Dataset\\\\1426424654173150406.PNG',\n",
       "  'Escultura'),\n",
       " ('C:\\\\Users\\\\USER\\\\Desktop\\\\Universidad\\\\Grupo de estudio DeepLearning\\\\ART_DATASET\\\\Dataset\\\\5453332860091348101.PNG',\n",
       "  'Mural'),\n",
       " ('C:\\\\Users\\\\USER\\\\Desktop\\\\Universidad\\\\Grupo de estudio DeepLearning\\\\ART_DATASET\\\\Dataset\\\\9887141646419969077.PNG',\n",
       "  'Escultura'),\n",
       " ('C:\\\\Users\\\\USER\\\\Desktop\\\\Universidad\\\\Grupo de estudio DeepLearning\\\\ART_DATASET\\\\Dataset\\\\378915514457238108.PNG',\n",
       "  'Escultura'),\n",
       " ('C:\\\\Users\\\\USER\\\\Desktop\\\\Universidad\\\\Grupo de estudio DeepLearning\\\\ART_DATASET\\\\Dataset\\\\1461002593995747218.PNG',\n",
       "  'fotografia')]"
      ]
     },
     "execution_count": 6,
     "metadata": {},
     "output_type": "execute_result"
    }
   ],
   "source": [
    "trainSources[:5]"
   ]
  },
  {
   "cell_type": "code",
   "execution_count": 8,
   "metadata": {},
   "outputs": [
    {
     "ename": "TypeError",
     "evalue": "map() does not take keyword arguments",
     "output_type": "error",
     "traceback": [
      "\u001b[1;31m---------------------------------------------------------------------------\u001b[0m",
      "\u001b[1;31mTypeError\u001b[0m                                 Traceback (most recent call last)",
      "\u001b[1;32m<ipython-input-8-b7f5d7b5eae4>\u001b[0m in \u001b[0;36m<module>\u001b[1;34m\u001b[0m\n\u001b[0;32m      1\u001b[0m dataset = make_dataset(trainSources, training=True,\n\u001b[0;32m      2\u001b[0m     \u001b[0mbatch_size\u001b[0m\u001b[1;33m=\u001b[0m\u001b[1;36m3\u001b[0m\u001b[1;33m,\u001b[0m \u001b[0mnum_epochs\u001b[0m\u001b[1;33m=\u001b[0m\u001b[1;36m1\u001b[0m\u001b[1;33m,\u001b[0m\u001b[1;33m\u001b[0m\u001b[1;33m\u001b[0m\u001b[0m\n\u001b[1;32m----> 3\u001b[1;33m     num_parallel_calls=3)\n\u001b[0m\u001b[0;32m      4\u001b[0m \u001b[0mdataset\u001b[0m \u001b[1;33m=\u001b[0m \u001b[0miter\u001b[0m\u001b[1;33m(\u001b[0m\u001b[0mdataset\u001b[0m\u001b[1;33m)\u001b[0m\u001b[1;33m\u001b[0m\u001b[1;33m\u001b[0m\u001b[0m\n",
      "\u001b[1;32m~\\Desktop\\Universidad\\Grupo de estudio DeepLearning\\artClassifier\\data.py\u001b[0m in \u001b[0;36mmake_dataset\u001b[1;34m(sources, training, batch_size, num_epochs, num_parallel_calls, shuffle_buffer_size, pixels, target)\u001b[0m\n\u001b[0;32m    115\u001b[0m         \u001b[0mds\u001b[0m \u001b[1;33m=\u001b[0m \u001b[0mds\u001b[0m\u001b[1;33m.\u001b[0m\u001b[0mshuffle\u001b[0m\u001b[1;33m(\u001b[0m\u001b[0mshuffle_buffer_size\u001b[0m\u001b[1;33m)\u001b[0m\u001b[1;33m\u001b[0m\u001b[1;33m\u001b[0m\u001b[0m\n\u001b[0;32m    116\u001b[0m \u001b[1;33m\u001b[0m\u001b[0m\n\u001b[1;32m--> 117\u001b[1;33m     \u001b[0mds\u001b[0m \u001b[1;33m=\u001b[0m \u001b[0mmap\u001b[0m\u001b[1;33m(\u001b[0m\u001b[0mload\u001b[0m\u001b[1;33m,\u001b[0m\u001b[0mnum_parallel_calls\u001b[0m \u001b[1;33m=\u001b[0m \u001b[0mnum_parallel_calls\u001b[0m\u001b[1;33m)\u001b[0m\u001b[1;33m\u001b[0m\u001b[1;33m\u001b[0m\u001b[0m\n\u001b[0m\u001b[0;32m    118\u001b[0m     \u001b[0mds\u001b[0m \u001b[1;33m=\u001b[0m \u001b[0mmap\u001b[0m\u001b[1;33m(\u001b[0m\u001b[1;32mlambda\u001b[0m \u001b[0mx\u001b[0m\u001b[1;33m,\u001b[0m\u001b[0my\u001b[0m\u001b[1;33m:\u001b[0m \u001b[1;33m(\u001b[0m\u001b[0mpreprocessImage\u001b[0m\u001b[1;33m(\u001b[0m\u001b[0mx\u001b[0m\u001b[1;33m,\u001b[0m\u001b[0mpixels\u001b[0m\u001b[1;33m)\u001b[0m\u001b[1;33m,\u001b[0m \u001b[0my\u001b[0m\u001b[1;33m)\u001b[0m\u001b[1;33m)\u001b[0m\u001b[1;33m\u001b[0m\u001b[1;33m\u001b[0m\u001b[0m\n\u001b[0;32m    119\u001b[0m \u001b[1;33m\u001b[0m\u001b[0m\n",
      "\u001b[1;31mTypeError\u001b[0m: map() does not take keyword arguments"
     ]
    }
   ],
   "source": [
    "dataset = makeDataset(trainSources, training=True,\n",
    "    batch_size=3, num_epochs=1,\n",
    "    num_parallel_calls=3)\n",
    "dataset = iter(dataset)"
   ]
  },
  {
   "cell_type": "code",
   "execution_count": null,
   "metadata": {},
   "outputs": [],
   "source": []
  }
 ],
 "metadata": {
  "kernelspec": {
   "display_name": "Python 3",
   "language": "python",
   "name": "python3"
  },
  "language_info": {
   "codemirror_mode": {
    "name": "ipython",
    "version": 3
   },
   "file_extension": ".py",
   "mimetype": "text/x-python",
   "name": "python",
   "nbconvert_exporter": "python",
   "pygments_lexer": "ipython3",
   "version": "3.6.8"
  }
 },
 "nbformat": 4,
 "nbformat_minor": 2
}
